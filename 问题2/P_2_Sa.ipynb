{
 "cells": [
  {
   "cell_type": "code",
   "execution_count": 1,
   "metadata": {},
   "outputs": [],
   "source": [
    "import numpy as np\n",
    "import pandas as pd\n",
    "from models.simulated_annealing import SimulatedAnnealing\n",
    "import random\n",
    "\n",
    "np.random.seed(42)"
   ]
  },
  {
   "cell_type": "code",
   "execution_count": 2,
   "metadata": {},
   "outputs": [],
   "source": [
    "# 读取数据\n",
    "file_path1 = '完整附件2_经济效益..xlsx'\n",
    "df = pd.read_excel(file_path1, sheet_name='Sheet1')\n",
    "\n",
    "file_path2 = '地块面积.xlsx'\n",
    "area = pd.read_excel(file_path2,sheet_name='Sheet1')\n",
    "bean = pd.read_excel(file_path2,sheet_name='Sheet2')\n",
    "\n",
    "file_path3 = '可种植作物.xlsx'\n",
    "judge = pd.read_excel(file_path3,sheet_name='Sheet1')\n",
    "\n",
    "file_path4 = '2023年种植数据.xlsx'\n",
    "plant_23 = pd.read_excel(file_path4,sheet_name='Sheet1')"
   ]
  },
  {
   "cell_type": "code",
   "execution_count": 3,
   "metadata": {},
   "outputs": [],
   "source": [
    "# 创建一个包含年份的列表\n",
    "years = list(range(2024, 2031))\n",
    "\n",
    "# 创建一个相同长度的全零列表\n",
    "zeros = [0] * len(years)\n",
    "\n",
    "# 创建DataFrame\n",
    "profit = pd.DataFrame({\n",
    "    '年份': years,  # 指定列名为 'Year'\n",
    "    '利润': zeros  # 指定列名为 'Value'\n",
    "})"
   ]
  },
  {
   "cell_type": "code",
   "execution_count": 6,
   "metadata": {},
   "outputs": [
    {
     "name": "stderr",
     "output_type": "stream",
     "text": [
      "Exception ignored in: <function ZipFile.__del__ at 0x0000025E96B05A80>\n",
      "Traceback (most recent call last):\n",
      "  File \"d:\\Python\\Python311\\Lib\\zipfile.py\", line 1870, in __del__\n",
      "    self.close()\n",
      "  File \"d:\\Python\\Python311\\Lib\\zipfile.py\", line 1887, in close\n",
      "    self.fp.seek(self.start_dir)\n",
      "ValueError: seek of closed file\n"
     ]
    },
    {
     "name": "stderr",
     "output_type": "stream",
     "text": [
      "C:\\Users\\田齐\\AppData\\Local\\Temp\\ipykernel_29884\\277884361.py:78: FutureWarning: Setting an item of incompatible dtype is deprecated and will raise an error in a future version of pandas. Value '85.91338979171435' has dtype incompatible with int64, please explicitly cast to a compatible dtype first.\n",
      "  result1.loc[index1,df_temp.loc[index,'作物名称']] = best_sol\n",
      "C:\\Users\\田齐\\AppData\\Local\\Temp\\ipykernel_29884\\277884361.py:83: FutureWarning: Setting an item of incompatible dtype is deprecated and will raise an error in a future version of pandas. Value '190318.79173745867' has dtype incompatible with int64, please explicitly cast to a compatible dtype first.\n",
      "  profit.loc[y-2024,'利润'] += best_fitness\n"
     ]
    },
    {
     "name": "stdout",
     "output_type": "stream",
     "text": [
      "红薯 种植量: x = 85.91338979171435 , 利润 = 190318.79173745867\n",
      "南瓜 种植量: x = 79.98901350423438 , 利润 = 140155.87296422222\n",
      "荞麦 种植量: x = 71.99340810254063 , 利润 = 161745.15374193643\n"
     ]
    },
    {
     "name": "stderr",
     "output_type": "stream",
     "text": [
      "C:\\Users\\田齐\\AppData\\Local\\Temp\\ipykernel_29884\\277884361.py:78: FutureWarning: Setting an item of incompatible dtype is deprecated and will raise an error in a future version of pandas. Value '79.98901350423438' has dtype incompatible with int64, please explicitly cast to a compatible dtype first.\n",
      "  result1.loc[index1,df_temp.loc[index,'作物名称']] = best_sol\n",
      "C:\\Users\\田齐\\AppData\\Local\\Temp\\ipykernel_29884\\277884361.py:78: FutureWarning: Setting an item of incompatible dtype is deprecated and will raise an error in a future version of pandas. Value '71.99340810254063' has dtype incompatible with int64, please explicitly cast to a compatible dtype first.\n",
      "  result1.loc[index1,df_temp.loc[index,'作物名称']] = best_sol\n"
     ]
    },
    {
     "name": "stdout",
     "output_type": "stream",
     "text": [
      "红薯 种植量: x = 67.99792477302205 , 利润 = 168179.59817688962\n",
      "荞麦 种植量: x = 59.869077592126345 , 利润 = 138010.73516728586\n",
      "红薯 种植量: x = 59.98535133897917 , 利润 = 151372.6720285748\n",
      "红豆 种植量: x = 54.99832150759136 , 利润 = 180159.53641747174\n"
     ]
    },
    {
     "name": "stderr",
     "output_type": "stream",
     "text": [
      "C:\\Users\\田齐\\AppData\\Local\\Temp\\ipykernel_29884\\277884361.py:78: FutureWarning: Setting an item of incompatible dtype is deprecated and will raise an error in a future version of pandas. Value '54.99832150759136' has dtype incompatible with int64, please explicitly cast to a compatible dtype first.\n",
      "  result1.loc[index1,df_temp.loc[index,'作物名称']] = best_sol\n",
      "C:\\Users\\田齐\\AppData\\Local\\Temp\\ipykernel_29884\\277884361.py:78: FutureWarning: Setting an item of incompatible dtype is deprecated and will raise an error in a future version of pandas. Value '54.99916075379568' has dtype incompatible with int64, please explicitly cast to a compatible dtype first.\n",
      "  result1.loc[index1,df_temp.loc[index,'作物名称']] = best_sol\n"
     ]
    },
    {
     "name": "stdout",
     "output_type": "stream",
     "text": [
      "黍子 种植量: x = 54.99916075379568 , 利润 = 126141.60842172604\n",
      "荞麦 种植量: x = 54.99916075379568 , 利润 = 132946.16584576218\n",
      "黍子 种植量: x = 49.78027008468757 , 利润 = 127081.84413712593\n",
      "黍子 种植量: x = 45.997894254978256 , 利润 = 123309.6278910407\n",
      "南瓜 种植量: x = 45.0 , 利润 = 88059.63003763805\n",
      "高粱 种植量: x = 43.97851529716945 , 利润 = 165626.91757516618\n",
      "南瓜 种植量: x = 39.873655298695354 , 利润 = 79963.74290339292\n"
     ]
    },
    {
     "name": "stderr",
     "output_type": "stream",
     "text": [
      "C:\\Users\\田齐\\AppData\\Local\\Temp\\ipykernel_29884\\277884361.py:78: FutureWarning: Setting an item of incompatible dtype is deprecated and will raise an error in a future version of pandas. Value '43.97851529716945' has dtype incompatible with int64, please explicitly cast to a compatible dtype first.\n",
      "  result1.loc[index1,df_temp.loc[index,'作物名称']] = best_sol\n"
     ]
    },
    {
     "name": "stdout",
     "output_type": "stream",
     "text": [
      "高粱 种植量: x = 34.89372091248951 , 利润 = 147409.7131628365\n",
      "玉米 种植量: x = 34.968490119783326 , 利润 = 269677.7564136194\n",
      "该农作物 2024 年第 1 季 不能种在 A3\n",
      "爬豆 种植量: x = 34.995727473868925 , 利润 = 76048.03277086071\n",
      "黑豆 种植量: x = 27.98974593728542 , 利润 = 129152.88272576875\n"
     ]
    },
    {
     "name": "stderr",
     "output_type": "stream",
     "text": [
      "C:\\Users\\田齐\\AppData\\Local\\Temp\\ipykernel_29884\\277884361.py:78: FutureWarning: Setting an item of incompatible dtype is deprecated and will raise an error in a future version of pandas. Value '34.995727473868925' has dtype incompatible with int64, please explicitly cast to a compatible dtype first.\n",
      "  result1.loc[index1,df_temp.loc[index,'作物名称']] = best_sol\n",
      "C:\\Users\\田齐\\AppData\\Local\\Temp\\ipykernel_29884\\277884361.py:78: FutureWarning: Setting an item of incompatible dtype is deprecated and will raise an error in a future version of pandas. Value '27.98974593728542' has dtype incompatible with int64, please explicitly cast to a compatible dtype first.\n",
      "  result1.loc[index1,df_temp.loc[index,'作物名称']] = best_sol\n"
     ]
    },
    {
     "name": "stdout",
     "output_type": "stream",
     "text": [
      "黑豆 种植量: x = 26.931197070267796 , 利润 = 122604.92461179875\n",
      "红豆 种植量: x = 24.999618524452583 , 利润 = 126868.2338811554\n",
      "高粱 种植量: x = 24.89089799343862 , 利润 = 126988.77880367178\n",
      "空心菜 种植量: x = 21.999328603036545 , 利润 = 457435.01247318333\n"
     ]
    },
    {
     "name": "stderr",
     "output_type": "stream",
     "text": [
      "C:\\Users\\田齐\\AppData\\Local\\Temp\\ipykernel_29884\\277884361.py:78: FutureWarning: Setting an item of incompatible dtype is deprecated and will raise an error in a future version of pandas. Value '21.999328603036545' has dtype incompatible with int64, please explicitly cast to a compatible dtype first.\n",
      "  result1.loc[index1,df_temp.loc[index,'作物名称']] = best_sol\n",
      "C:\\Users\\田齐\\AppData\\Local\\Temp\\ipykernel_29884\\277884361.py:78: FutureWarning: Setting an item of incompatible dtype is deprecated and will raise an error in a future version of pandas. Value '19.99755855649653' has dtype incompatible with int64, please explicitly cast to a compatible dtype first.\n",
      "  result1.loc[index1,df_temp.loc[index,'作物名称']] = best_sol\n",
      "C:\\Users\\田齐\\AppData\\Local\\Temp\\ipykernel_29884\\277884361.py:78: FutureWarning: Setting an item of incompatible dtype is deprecated and will raise an error in a future version of pandas. Value '19.999694819562066' has dtype incompatible with int64, please explicitly cast to a compatible dtype first.\n",
      "  result1.loc[index1,df_temp.loc[index,'作物名称']] = best_sol\n"
     ]
    },
    {
     "name": "stdout",
     "output_type": "stream",
     "text": [
      "黑豆 种植量: x = 19.999389639124132 , 利润 = 120853.5866276664\n",
      "玉米 种植量: x = 19.99755855649653 , 利润 = 202272.41335900588\n",
      "黄瓜 种植量: x = 19.999694819562066 , 利润 = 939124.3769583113\n",
      "红豆 种植量: x = 17.983520256351568 , 利润 = 117302.26634330825\n",
      "玉米 种植量: x = 14.926298924238957 , 利润 = 216347.36772752294\n",
      "玉米 种植量: x = 14.99015793087663 , 利润 = 229838.1690114155\n",
      "空心菜 种植量: x = 14.998397802700847 , 利润 = 325302.5236400826\n",
      "空心菜 种植量: x = 13.99658197909514 , 利润 = 298277.42623979127\n",
      "小麦 种植量: x = 12.990478370336461 , 利润 = 310498.6641546392\n",
      "茄子 种植量: x = 11.991943236438544 , 利润 = 350617.3669985384\n",
      "黄瓜 种植量: x = 9.99847409781033 , 利润 = 488823.87833048555\n",
      "黄瓜 种植量: x = 9.997100785839628 , 利润 = 477180.9010281977\n"
     ]
    },
    {
     "name": "stderr",
     "output_type": "stream",
     "text": [
      "C:\\Users\\田齐\\AppData\\Local\\Temp\\ipykernel_29884\\277884361.py:78: FutureWarning: Setting an item of incompatible dtype is deprecated and will raise an error in a future version of pandas. Value '12.990478370336461' has dtype incompatible with int64, please explicitly cast to a compatible dtype first.\n",
      "  result1.loc[index1,df_temp.loc[index,'作物名称']] = best_sol\n",
      "C:\\Users\\田齐\\AppData\\Local\\Temp\\ipykernel_29884\\277884361.py:78: FutureWarning: Setting an item of incompatible dtype is deprecated and will raise an error in a future version of pandas. Value '11.991943236438544' has dtype incompatible with int64, please explicitly cast to a compatible dtype first.\n",
      "  result1.loc[index1,df_temp.loc[index,'作物名称']] = best_sol\n"
     ]
    },
    {
     "name": "stdout",
     "output_type": "stream",
     "text": [
      "茄子 种植量: x = 5.998992904554818 , 利润 = 244427.261705119\n",
      "该农作物 2024 年第 1 季 不能种在 D4\n",
      "豇豆 种植量: x = 5.996337834744793 , 利润 = 231530.62554610096\n",
      "茄子 种植量: x = 0.5999542229343099 , 利润 = 203405.75091602735\n"
     ]
    },
    {
     "name": "stderr",
     "output_type": "stream",
     "text": [
      "C:\\Users\\田齐\\AppData\\Local\\Temp\\ipykernel_29884\\277884361.py:78: FutureWarning: Setting an item of incompatible dtype is deprecated and will raise an error in a future version of pandas. Value '5.996337834744793' has dtype incompatible with int64, please explicitly cast to a compatible dtype first.\n",
      "  result1.loc[index1,df_temp.loc[index,'作物名称']] = best_sol\n",
      "C:\\Users\\田齐\\AppData\\Local\\Temp\\ipykernel_29884\\277884361.py:78: FutureWarning: Setting an item of incompatible dtype is deprecated and will raise an error in a future version of pandas. Value '0.5999450675211718' has dtype incompatible with int64, please explicitly cast to a compatible dtype first.\n",
      "  result1.loc[index1,df_temp.loc[index,'作物名称']] = best_sol\n"
     ]
    },
    {
     "name": "stdout",
     "output_type": "stream",
     "text": [
      "茄子 种植量: x = 0.5949187457084001 , 利润 = 190524.3975741388\n",
      "包菜 种植量: x = 0.5999450675211718 , 利润 = 24278.504808448713\n",
      "豇豆 种植量: x = 0.5999450675211718 , 利润 = 202143.77121573495\n",
      "包菜 种植量: x = 0.6 , 利润 = 22182.191041099868\n",
      "包菜 种植量: x = 0.5999176012817579 , 利润 = 22798.062185033024\n",
      "黄心菜 种植量: x = 0.5999359121080339 , 利润 = 10695.144505401364\n",
      "豇豆 种植量: x = 0.5997711146715495 , 利润 = 189622.26876243285\n"
     ]
    },
    {
     "name": "stderr",
     "output_type": "stream",
     "text": [
      "C:\\Users\\田齐\\AppData\\Local\\Temp\\ipykernel_29884\\277884361.py:78: FutureWarning: Setting an item of incompatible dtype is deprecated and will raise an error in a future version of pandas. Value '0.5999359121080339' has dtype incompatible with int64, please explicitly cast to a compatible dtype first.\n",
      "  result1.loc[index1,df_temp.loc[index,'作物名称']] = best_sol\n",
      "C:\\Users\\田齐\\AppData\\Local\\Temp\\ipykernel_29884\\277884361.py:78: FutureWarning: Setting an item of incompatible dtype is deprecated and will raise an error in a future version of pandas. Value '0.6' has dtype incompatible with int64, please explicitly cast to a compatible dtype first.\n",
      "  result1.loc[index1,df_temp.loc[index,'作物名称']] = best_sol\n",
      "C:\\Users\\田齐\\AppData\\Local\\Temp\\ipykernel_29884\\277884361.py:78: FutureWarning: Setting an item of incompatible dtype is deprecated and will raise an error in a future version of pandas. Value '0.5999267566948958' has dtype incompatible with int64, please explicitly cast to a compatible dtype first.\n",
      "  result1.loc[index1,df_temp.loc[index,'作物名称']] = best_sol\n"
     ]
    },
    {
     "name": "stdout",
     "output_type": "stream",
     "text": [
      "芹菜 种植量: x = 0.6 , 利润 = 12984.195626999928\n",
      "生菜 种植量: x = 0.5999267566948958 , 利润 = 12131.674747833207\n",
      "芹菜 种植量: x = 0.5998168917372396 , 利润 = 13064.544772065961\n",
      "生菜 种植量: x = 0.5993408102540627 , 利润 = 11570.11481220593\n",
      "油麦菜 种植量: x = 0.5994140535591669 , 利润 = 19606.06253174669\n",
      "黄心菜 种植量: x = 0.5987914854657816 , 利润 = 11852.235780817311\n",
      "芹菜 种植量: x = 0.5996520943007553 , 利润 = 12642.264577726506\n",
      "黄心菜 种植量: x = 0.5996154726482033 , 利润 = 12280.908876556183\n"
     ]
    },
    {
     "name": "stderr",
     "output_type": "stream",
     "text": [
      "C:\\Users\\田齐\\AppData\\Local\\Temp\\ipykernel_29884\\277884361.py:78: FutureWarning: Setting an item of incompatible dtype is deprecated and will raise an error in a future version of pandas. Value '0.5994140535591669' has dtype incompatible with int64, please explicitly cast to a compatible dtype first.\n",
      "  result1.loc[index1,df_temp.loc[index,'作物名称']] = best_sol\n"
     ]
    },
    {
     "name": "stdout",
     "output_type": "stream",
     "text": [
      "生菜 种植量: x = 0.5994689860379949 , 利润 = 11758.517688526566\n",
      "油麦菜 种植量: x = 0.5976287479972534 , 利润 = 20261.804377244658\n",
      "油麦菜 种植量: x = 0.5995605401693751 , 利润 = 18552.0407376183\n",
      "芸豆 种植量: x = 0.5989013504234378 , 利润 = 29555.82790483394\n",
      "该农作物 2024 年第 1 季 不能种在 F4\n",
      "芸豆 种植量: x = 0.5997344930189975 , 利润 = 30263.977971705637\n",
      "该农作物 2024 年第 1 季 不能种在 F4\n",
      "菠菜 种植量: x = 0.5997802700846876 , 利润 = 7829.858076527128\n",
      "白萝卜 种植量: x = 21.998321507591363 , 利润 = 262111.1061525566\n"
     ]
    },
    {
     "name": "stderr",
     "output_type": "stream",
     "text": [
      "C:\\Users\\田齐\\AppData\\Local\\Temp\\ipykernel_29884\\277884361.py:78: FutureWarning: Setting an item of incompatible dtype is deprecated and will raise an error in a future version of pandas. Value '0.5997802700846876' has dtype incompatible with int64, please explicitly cast to a compatible dtype first.\n",
      "  result1.loc[index1,df_temp.loc[index,'作物名称']] = best_sol\n",
      "C:\\Users\\田齐\\AppData\\Local\\Temp\\ipykernel_29884\\277884361.py:85: FutureWarning: Setting an item of incompatible dtype is deprecated and will raise an error in a future version of pandas. Value '21.998321507591363' has dtype incompatible with int64, please explicitly cast to a compatible dtype first.\n",
      "  result2.loc[index1-26,df_temp.loc[index,'作物名称']] = best_sol\n",
      "C:\\Users\\田齐\\AppData\\Local\\Temp\\ipykernel_29884\\277884361.py:85: FutureWarning: Setting an item of incompatible dtype is deprecated and will raise an error in a future version of pandas. Value '19.946593423361563' has dtype incompatible with int64, please explicitly cast to a compatible dtype first.\n",
      "  result2.loc[index1-26,df_temp.loc[index,'作物名称']] = best_sol\n"
     ]
    },
    {
     "name": "stdout",
     "output_type": "stream",
     "text": [
      "大白菜 种植量: x = 19.946593423361563 , 利润 = 293597.30316681217\n",
      "大白菜 种植量: x = 14.997940032043946 , 利润 = 297891.09083357814\n",
      "大白菜 种植量: x = 13.988677805752651 , 利润 = 279305.8537725393\n",
      "该农作物 2024 年第 2 季 不能种在 D3\n",
      "白萝卜 种植量: x = 14.0 , 利润 = 221785.8410054498\n",
      "大白菜 种植量: x = 11.996154726482033 , 利润 = 269653.98192271125\n",
      "白萝卜 种植量: x = 9.997558556496529 , 利润 = 183157.21378609556\n",
      "红萝卜 种植量: x = 5.997619592584115 , 利润 = 91560.23361438003\n",
      "榆黄菇 种植量: x = 0.5998168917372396 , 利润 = 347709.9288406058\n"
     ]
    },
    {
     "name": "stderr",
     "output_type": "stream",
     "text": [
      "C:\\Users\\田齐\\AppData\\Local\\Temp\\ipykernel_29884\\277884361.py:85: FutureWarning: Setting an item of incompatible dtype is deprecated and will raise an error in a future version of pandas. Value '5.997619592584115' has dtype incompatible with int64, please explicitly cast to a compatible dtype first.\n",
      "  result2.loc[index1-26,df_temp.loc[index,'作物名称']] = best_sol\n",
      "C:\\Users\\田齐\\AppData\\Local\\Temp\\ipykernel_29884\\277884361.py:85: FutureWarning: Setting an item of incompatible dtype is deprecated and will raise an error in a future version of pandas. Value '0.5998168917372396' has dtype incompatible with int64, please explicitly cast to a compatible dtype first.\n",
      "  result2.loc[index1-26,df_temp.loc[index,'作物名称']] = best_sol\n"
     ]
    },
    {
     "name": "stdout",
     "output_type": "stream",
     "text": [
      "榆黄菇 种植量: x = 0.5998260471503777 , 利润 = 360087.3997745847\n",
      "榆黄菇 种植量: x = 0.5992584115358205 , 利润 = 335376.1637507633\n",
      "小青菜 种植量: x = 0.5998535133897916 , 利润 = 143376.7725481785\n",
      "该农作物 2024 年第 2 季 不能种在 F3\n",
      "芸豆 种植量: x = 0.6 , 利润 = 28665.082565706434\n"
     ]
    },
    {
     "name": "stderr",
     "output_type": "stream",
     "text": [
      "C:\\Users\\田齐\\AppData\\Local\\Temp\\ipykernel_29884\\277884361.py:85: FutureWarning: Setting an item of incompatible dtype is deprecated and will raise an error in a future version of pandas. Value '0.6' has dtype incompatible with int64, please explicitly cast to a compatible dtype first.\n",
      "  result2.loc[index1-26,df_temp.loc[index,'作物名称']] = best_sol\n",
      "C:\\Users\\田齐\\AppData\\Local\\Temp\\ipykernel_29884\\277884361.py:85: FutureWarning: Setting an item of incompatible dtype is deprecated and will raise an error in a future version of pandas. Value '0.5997436484321355' has dtype incompatible with int64, please explicitly cast to a compatible dtype first.\n",
      "  result2.loc[index1-26,df_temp.loc[index,'作物名称']] = best_sol\n"
     ]
    },
    {
     "name": "stdout",
     "output_type": "stream",
     "text": [
      "白灵菇 种植量: x = 0.5997436484321355 , 利润 = 189103.66366560926\n",
      "芸豆 种植量: x = 0.5995788509956511 , 利润 = 32240.70668371183\n",
      "芸豆 种植量: x = 0.599963378347448 , 利润 = 29791.702569185923\n",
      "羊肚菌 种植量: x = 0.5989013504234378 , 利润 = 231456.65731108963\n",
      "该农作物 2024 年第 2 季 不能种在 E11\n",
      "羊肚菌 种植量: x = 0.5959349965667201 , 利润 = 238232.27277527278\n",
      "该农作物 2024 年第 2 季 不能种在 E12\n",
      "香菇 种植量: x = 0.5997070267795834 , 利润 = 88942.55485716791\n",
      "白灵菇 种植量: x = 0.6 , 利润 = 198792.06117697133\n",
      "该农作物 2024 年第 2 季 不能种在 E7\n",
      "香菇 种植量: x = 0.6 , 利润 = 97277.76497098038\n"
     ]
    },
    {
     "name": "stderr",
     "output_type": "stream",
     "text": [
      "C:\\Users\\田齐\\AppData\\Local\\Temp\\ipykernel_29884\\277884361.py:85: FutureWarning: Setting an item of incompatible dtype is deprecated and will raise an error in a future version of pandas. Value '0.5997070267795834' has dtype incompatible with int64, please explicitly cast to a compatible dtype first.\n",
      "  result2.loc[index1-26,df_temp.loc[index,'作物名称']] = best_sol\n"
     ]
    },
    {
     "name": "stdout",
     "output_type": "stream",
     "text": [
      "白灵菇 种植量: x = 0.5973266193636988 , 利润 = 182722.0027651328\n",
      "白灵菇 种植量: x = 0.5998535133897916 , 利润 = 190290.61800490532\n",
      "该农作物 2024 年第 2 季 不能种在 E8\n",
      "香菇 种植量: x = 0.5998718242160678 , 利润 = 92656.89279814021\n",
      "白灵菇 种植量: x = 0.5973174639505607 , 利润 = 202010.5446956261\n",
      "羊肚菌 种植量: x = 0.5986724650949874 , 利润 = 232982.95286429225\n",
      "羊肚菌 种植量: x = 0.5990753032730601 , 利润 = 245586.66180645325\n"
     ]
    },
    {
     "name": "stderr",
     "output_type": "stream",
     "text": [
      "C:\\Users\\田齐\\AppData\\Local\\Temp\\ipykernel_29884\\277884361.py:85: FutureWarning: Setting an item of incompatible dtype is deprecated and will raise an error in a future version of pandas. Value '0.5986724650949874' has dtype incompatible with int64, please explicitly cast to a compatible dtype first.\n",
      "  result2.loc[index1-26,df_temp.loc[index,'作物名称']] = best_sol\n",
      "C:\\Users\\田齐\\AppData\\Local\\Temp\\ipykernel_29884\\277884361.py:85: FutureWarning: Setting an item of incompatible dtype is deprecated and will raise an error in a future version of pandas. Value '0.5998809796292057' has dtype incompatible with int64, please explicitly cast to a compatible dtype first.\n",
      "  result2.loc[index1-26,df_temp.loc[index,'作物名称']] = best_sol\n"
     ]
    },
    {
     "name": "stdout",
     "output_type": "stream",
     "text": [
      "小青菜 种植量: x = 0.5998809796292057 , 利润 = 146946.9791353008\n",
      "荞麦 种植量: x = 85.89108110170139 , 利润 = 211848.12057413656\n"
     ]
    },
    {
     "name": "stderr",
     "output_type": "stream",
     "text": [
      "C:\\Users\\田齐\\AppData\\Local\\Temp\\ipykernel_29884\\277884361.py:78: FutureWarning: Setting an item of incompatible dtype is deprecated and will raise an error in a future version of pandas. Value '85.89108110170139' has dtype incompatible with int64, please explicitly cast to a compatible dtype first.\n",
      "  result1.loc[index1,df_temp.loc[index,'作物名称']] = best_sol\n",
      "C:\\Users\\田齐\\AppData\\Local\\Temp\\ipykernel_29884\\277884361.py:78: FutureWarning: Setting an item of incompatible dtype is deprecated and will raise an error in a future version of pandas. Value '79.99755855649653' has dtype incompatible with int64, please explicitly cast to a compatible dtype first.\n",
      "  result1.loc[index1,df_temp.loc[index,'作物名称']] = best_sol\n",
      "C:\\Users\\田齐\\AppData\\Local\\Temp\\ipykernel_29884\\277884361.py:78: FutureWarning: Setting an item of incompatible dtype is deprecated and will raise an error in a future version of pandas. Value '71.99890135042344' has dtype incompatible with int64, please explicitly cast to a compatible dtype first.\n",
      "  result1.loc[index1,df_temp.loc[index,'作物名称']] = best_sol\n"
     ]
    },
    {
     "name": "stdout",
     "output_type": "stream",
     "text": [
      "黑豆 种植量: x = 79.99755855649653 , 利润 = 235427.68695540575\n",
      "红薯 种植量: x = 71.99890135042344 , 利润 = 225413.52015764438\n",
      "荞麦 种植量: x = 68.0 , 利润 = 185413.8701590497\n",
      "红薯 种植量: x = 59.96520943007553 , 利润 = 171982.81346829515\n",
      "红薯 种植量: x = 59.93957427328908 , 利润 = 173060.49306611763\n",
      "该农作物 2025 年第 1 季 不能种在 B1\n",
      "荞麦 种植量: x = 59.95330739299611 , 利润 = 163058.51696380705\n",
      "黍子 种植量: x = 54.99832150759136 , 利润 = 165373.90162725735\n"
     ]
    },
    {
     "name": "stderr",
     "output_type": "stream",
     "text": [
      "C:\\Users\\田齐\\AppData\\Local\\Temp\\ipykernel_29884\\277884361.py:78: FutureWarning: Setting an item of incompatible dtype is deprecated and will raise an error in a future version of pandas. Value '54.99832150759136' has dtype incompatible with int64, please explicitly cast to a compatible dtype first.\n",
      "  result1.loc[index1,df_temp.loc[index,'作物名称']] = best_sol\n",
      "C:\\Users\\田齐\\AppData\\Local\\Temp\\ipykernel_29884\\277884361.py:78: FutureWarning: Setting an item of incompatible dtype is deprecated and will raise an error in a future version of pandas. Value '54.98069733730068' has dtype incompatible with int64, please explicitly cast to a compatible dtype first.\n",
      "  result1.loc[index1,df_temp.loc[index,'作物名称']] = best_sol\n"
     ]
    },
    {
     "name": "stdout",
     "output_type": "stream",
     "text": [
      "黍子 种植量: x = 54.99832150759136 , 利润 = 140345.5381968193\n",
      "该农作物 2025 年第 1 季 不能种在 B7\n",
      "高粱 种植量: x = 54.98069733730068 , 利润 = 167414.89078219663\n",
      "黍子 种植量: x = 54.981536583505 , 利润 = 158332.03876775346\n",
      "红薯 种植量: x = 49.98779278248264 , 利润 = 154629.23347173765\n",
      "南瓜 种植量: x = 45.99227893492027 , 利润 = 83805.50838303915\n",
      "南瓜 种植量: x = 44.98352025635157 , 利润 = 91233.48391417504\n",
      "该农作物 2025 年第 1 季 不能种在 B12\n",
      "高粱 种植量: x = 44.991760128175784 , 利润 = 144912.89566758464\n",
      "黍子 种植量: x = 44.0 , 利润 = 131875.30071941658\n"
     ]
    },
    {
     "name": "stderr",
     "output_type": "stream",
     "text": [
      "C:\\Users\\田齐\\AppData\\Local\\Temp\\ipykernel_29884\\277884361.py:78: FutureWarning: Setting an item of incompatible dtype is deprecated and will raise an error in a future version of pandas. Value '45.99227893492027' has dtype incompatible with int64, please explicitly cast to a compatible dtype first.\n",
      "  result1.loc[index1,df_temp.loc[index,'作物名称']] = best_sol\n"
     ]
    },
    {
     "name": "stdout",
     "output_type": "stream",
     "text": [
      "南瓜 种植量: x = 39.98046845197223 , 利润 = 82559.16525431097\n",
      "该农作物 2025 年第 1 季 不能种在 B3\n",
      "红豆 种植量: x = 40.0 , 利润 = 134293.95414713578\n",
      "高粱 种植量: x = 34.99626153963531 , 利润 = 164797.63941237336\n",
      "该农作物 2025 年第 1 季 不能种在 B13\n",
      "黑豆 种植量: x = 34.977569237811856 , 利润 = 158920.9400416311\n",
      "南瓜 种植量: x = 34.919890135042344 , 利润 = 72160.62831615709\n",
      "南瓜 种植量: x = 27.943175402456703 , 利润 = 59625.13756524943\n",
      "高粱 种植量: x = 26.888349736781873 , 利润 = 137732.13524518284\n",
      "红豆 种植量: x = 24.99542229343099 , 利润 = 134171.94761134952\n",
      "该农作物 2025 年第 1 季 不能种在 B10\n",
      "玉米 种植量: x = 24.91149767299916 , 利润 = 272301.05485046445\n",
      "黑豆 种植量: x = 24.999618524452583 , 利润 = 144707.53675162175\n",
      "茄子 种植量: x = 21.995635919737545 , 利润 = 553672.2031219035\n",
      "红豆 种植量: x = 19.995727473868925 , 利润 = 129039.94759879375\n"
     ]
    },
    {
     "name": "stderr",
     "output_type": "stream",
     "text": [
      "C:\\Users\\田齐\\AppData\\Local\\Temp\\ipykernel_29884\\277884361.py:78: FutureWarning: Setting an item of incompatible dtype is deprecated and will raise an error in a future version of pandas. Value '24.91149767299916' has dtype incompatible with int64, please explicitly cast to a compatible dtype first.\n",
      "  result1.loc[index1,df_temp.loc[index,'作物名称']] = best_sol\n",
      "C:\\Users\\田齐\\AppData\\Local\\Temp\\ipykernel_29884\\277884361.py:78: FutureWarning: Setting an item of incompatible dtype is deprecated and will raise an error in a future version of pandas. Value '21.995635919737545' has dtype incompatible with int64, please explicitly cast to a compatible dtype first.\n",
      "  result1.loc[index1,df_temp.loc[index,'作物名称']] = best_sol\n",
      "C:\\Users\\田齐\\AppData\\Local\\Temp\\ipykernel_29884\\277884361.py:78: FutureWarning: Setting an item of incompatible dtype is deprecated and will raise an error in a future version of pandas. Value '19.995727473868925' has dtype incompatible with int64, please explicitly cast to a compatible dtype first.\n",
      "  result1.loc[index1,df_temp.loc[index,'作物名称']] = best_sol\n"
     ]
    },
    {
     "name": "stdout",
     "output_type": "stream",
     "text": [
      "红豆 种植量: x = 20.0 , 利润 = 117494.8945886709\n",
      "豇豆 种植量: x = 20.0 , 利润 = 386137.9397114067\n",
      "玉米 种植量: x = 17.967589837491417 , 利润 = 253786.87732412704\n",
      "玉米 种植量: x = 15.0 , 利润 = 269073.9505211012\n",
      "该农作物 2025 年第 1 季 不能种在 C1\n",
      "爬豆 种植量: x = 14.981460288395514 , 利润 = 44312.730980929446\n",
      "玉米 种植量: x = 14.993133440146487 , 利润 = 268361.2228749124\n",
      "该农作物 2025 年第 1 季 不能种在 C3\n",
      "小麦 种植量: x = 14.999084458686198 , 利润 = 320959.43385561823\n",
      "黄瓜 种植量: x = 15.0 , 利润 = 758345.8114885091\n"
     ]
    },
    {
     "name": "stderr",
     "output_type": "stream",
     "text": [
      "C:\\Users\\田齐\\AppData\\Local\\Temp\\ipykernel_29884\\277884361.py:78: FutureWarning: Setting an item of incompatible dtype is deprecated and will raise an error in a future version of pandas. Value '14.981460288395514' has dtype incompatible with int64, please explicitly cast to a compatible dtype first.\n",
      "  result1.loc[index1,df_temp.loc[index,'作物名称']] = best_sol\n",
      "C:\\Users\\田齐\\AppData\\Local\\Temp\\ipykernel_29884\\277884361.py:78: FutureWarning: Setting an item of incompatible dtype is deprecated and will raise an error in a future version of pandas. Value '14.999084458686198' has dtype incompatible with int64, please explicitly cast to a compatible dtype first.\n",
      "  result1.loc[index1,df_temp.loc[index,'作物名称']] = best_sol\n"
     ]
    },
    {
     "name": "stdout",
     "output_type": "stream",
     "text": [
      "黄瓜 种植量: x = 13.999786373693446 , 利润 = 720946.6235263624\n",
      "玉米 种植量: x = 12.849439230945297 , 利润 = 259429.86265259061\n",
      "黄瓜 种植量: x = 11.972350652323186 , 利润 = 528088.1969099565\n"
     ]
    },
    {
     "name": "stderr",
     "output_type": "stream",
     "text": [
      "C:\\Users\\田齐\\AppData\\Local\\Temp\\ipykernel_29884\\277884361.py:78: FutureWarning: Setting an item of incompatible dtype is deprecated and will raise an error in a future version of pandas. Value '13.999786373693446' has dtype incompatible with int64, please explicitly cast to a compatible dtype first.\n",
      "  result1.loc[index1,df_temp.loc[index,'作物名称']] = best_sol\n"
     ]
    },
    {
     "name": "stdout",
     "output_type": "stream",
     "text": [
      "空心菜 种植量: x = 9.99496452277409 , 利润 = 235980.7429476429\n",
      "芹菜 种植量: x = 10.0 , 利润 = 111685.10112789866\n",
      "茄子 种植量: x = 5.996337834744793 , 利润 = 258844.63199126255\n"
     ]
    },
    {
     "name": "stderr",
     "output_type": "stream",
     "text": [
      "C:\\Users\\田齐\\AppData\\Local\\Temp\\ipykernel_29884\\277884361.py:78: FutureWarning: Setting an item of incompatible dtype is deprecated and will raise an error in a future version of pandas. Value '9.99496452277409' has dtype incompatible with int64, please explicitly cast to a compatible dtype first.\n",
      "  result1.loc[index1,df_temp.loc[index,'作物名称']] = best_sol\n"
     ]
    },
    {
     "name": "stdout",
     "output_type": "stream",
     "text": [
      "空心菜 种植量: x = 0.599981689173724 , 利润 = 29017.232448550727\n",
      "空心菜 种植量: x = 0.599981689173724 , 利润 = 26106.270343866912\n",
      "茄子 种植量: x = 0.5999908445868619 , 利润 = 208457.9597744202\n",
      "芹菜 种植量: x = 0.5999267566948958 , 利润 = 12049.280187499518\n"
     ]
    },
    {
     "name": "stderr",
     "output_type": "stream",
     "text": [
      "C:\\Users\\田齐\\AppData\\Local\\Temp\\ipykernel_29884\\277884361.py:78: FutureWarning: Setting an item of incompatible dtype is deprecated and will raise an error in a future version of pandas. Value '0.5999267566948958' has dtype incompatible with int64, please explicitly cast to a compatible dtype first.\n",
      "  result1.loc[index1,df_temp.loc[index,'作物名称']] = best_sol\n",
      "C:\\Users\\田齐\\AppData\\Local\\Temp\\ipykernel_29884\\277884361.py:78: FutureWarning: Setting an item of incompatible dtype is deprecated and will raise an error in a future version of pandas. Value '0.5999267566948958' has dtype incompatible with int64, please explicitly cast to a compatible dtype first.\n",
      "  result1.loc[index1,df_temp.loc[index,'作物名称']] = best_sol\n",
      "C:\\Users\\田齐\\AppData\\Local\\Temp\\ipykernel_29884\\277884361.py:78: FutureWarning: Setting an item of incompatible dtype is deprecated and will raise an error in a future version of pandas. Value '0.599981689173724' has dtype incompatible with int64, please explicitly cast to a compatible dtype first.\n",
      "  result1.loc[index1,df_temp.loc[index,'作物名称']] = best_sol\n"
     ]
    },
    {
     "name": "stdout",
     "output_type": "stream",
     "text": [
      "豇豆 种植量: x = 0.5999267566948958 , 利润 = 221370.74013814577\n",
      "包菜 种植量: x = 0.5998168917372396 , 利润 = 21331.70966580386\n",
      "该农作物 2025 年第 1 季 不能种在 E14\n",
      "黄心菜 种植量: x = 0.599981689173724 , 利润 = 13449.378291100766\n",
      "豇豆 种植量: x = 0.5997253376058594 , 利润 = 220950.09543846129\n",
      "包菜 种植量: x = 0.5998352025635156 , 利润 = 21565.371275371825\n",
      "芹菜 种植量: x = 0.5994232089723048 , 利润 = 13909.651109021595\n",
      "该农作物 2025 年第 1 季 不能种在 E11\n",
      "生菜 种植量: x = 0.5999176012817579 , 利润 = 11533.95560361713\n",
      "包菜 种植量: x = 0.5996063172350652 , 利润 = 20357.801812994745\n"
     ]
    },
    {
     "name": "stderr",
     "output_type": "stream",
     "text": [
      "C:\\Users\\田齐\\AppData\\Local\\Temp\\ipykernel_29884\\277884361.py:78: FutureWarning: Setting an item of incompatible dtype is deprecated and will raise an error in a future version of pandas. Value '0.5998352025635156' has dtype incompatible with int64, please explicitly cast to a compatible dtype first.\n",
      "  result1.loc[index1,df_temp.loc[index,'作物名称']] = best_sol\n",
      "C:\\Users\\田齐\\AppData\\Local\\Temp\\ipykernel_29884\\277884361.py:78: FutureWarning: Setting an item of incompatible dtype is deprecated and will raise an error in a future version of pandas. Value '0.5999176012817579' has dtype incompatible with int64, please explicitly cast to a compatible dtype first.\n",
      "  result1.loc[index1,df_temp.loc[index,'作物名称']] = best_sol\n"
     ]
    },
    {
     "name": "stdout",
     "output_type": "stream",
     "text": [
      "包菜 种植量: x = 0.5991851682307164 , 利润 = 26349.31774427024\n",
      "芹菜 种植量: x = 0.5997253376058594 , 利润 = 14782.076240263177\n",
      "黄心菜 种植量: x = 0.5996154726482033 , 利润 = 13474.325818361396\n",
      "芸豆 种植量: x = 0.5999908445868619 , 利润 = 31306.270163538666\n"
     ]
    },
    {
     "name": "stderr",
     "output_type": "stream",
     "text": [
      "C:\\Users\\田齐\\AppData\\Local\\Temp\\ipykernel_29884\\277884361.py:78: FutureWarning: Setting an item of incompatible dtype is deprecated and will raise an error in a future version of pandas. Value '0.5999908445868619' has dtype incompatible with int64, please explicitly cast to a compatible dtype first.\n",
      "  result1.loc[index1,df_temp.loc[index,'作物名称']] = best_sol\n"
     ]
    },
    {
     "name": "stdout",
     "output_type": "stream",
     "text": [
      "黄心菜 种植量: x = 0.599963378347448 , 利润 = 12756.912154094092\n",
      "芸豆 种植量: x = 0.5998992904554817 , 利润 = 29953.08071740621\n",
      "生菜 种植量: x = 0.5998443579766537 , 利润 = 11115.92091730805\n",
      "该农作物 2025 年第 1 季 不能种在 E3\n",
      "油麦菜 种植量: x = 0.5997619592584115 , 利润 = 20421.370423493492\n"
     ]
    },
    {
     "name": "stderr",
     "output_type": "stream",
     "text": [
      "C:\\Users\\田齐\\AppData\\Local\\Temp\\ipykernel_29884\\277884361.py:78: FutureWarning: Setting an item of incompatible dtype is deprecated and will raise an error in a future version of pandas. Value '0.5997619592584115' has dtype incompatible with int64, please explicitly cast to a compatible dtype first.\n",
      "  result1.loc[index1,df_temp.loc[index,'作物名称']] = best_sol\n"
     ]
    },
    {
     "name": "stdout",
     "output_type": "stream",
     "text": [
      "生菜 种植量: x = 0.5999450675211718 , 利润 = 13110.157501538102\n",
      "油麦菜 种植量: x = 0.5996520943007553 , 利润 = 20930.590208194455\n",
      "该农作物 2025 年第 1 季 不能种在 E1\n",
      "芸豆 种植量: x = 0.5982421606775006 , 利润 = 34666.116637701925\n",
      "生菜 种植量: x = 0.5991119249256123 , 利润 = 13730.397852260876\n",
      "红萝卜 种植量: x = 22.0 , 利润 = 188112.13997472118\n",
      "大白菜 种植量: x = 19.99694819562066 , 利润 = 343185.64744356956\n",
      "该农作物 2025 年第 2 季 不能种在 D8\n",
      "白萝卜 种植量: x = 19.95971618219272 , 利润 = 279185.3513155964\n"
     ]
    },
    {
     "name": "stderr",
     "output_type": "stream",
     "text": [
      "C:\\Users\\田齐\\AppData\\Local\\Temp\\ipykernel_29884\\277884361.py:85: FutureWarning: Setting an item of incompatible dtype is deprecated and will raise an error in a future version of pandas. Value '19.95971618219272' has dtype incompatible with int64, please explicitly cast to a compatible dtype first.\n",
      "  result2.loc[index1-26,df_temp.loc[index,'作物名称']] = best_sol\n",
      "C:\\Users\\田齐\\AppData\\Local\\Temp\\ipykernel_29884\\277884361.py:85: FutureWarning: Setting an item of incompatible dtype is deprecated and will raise an error in a future version of pandas. Value '13.983764400701915' has dtype incompatible with int64, please explicitly cast to a compatible dtype first.\n",
      "  result2.loc[index1-26,df_temp.loc[index,'作物名称']] = best_sol\n"
     ]
    },
    {
     "name": "stdout",
     "output_type": "stream",
     "text": [
      "白萝卜 种植量: x = 14.995651178759442 , 利润 = 234161.69326728862\n",
      "白萝卜 种植量: x = 13.992095826657511 , 利润 = 221598.8225662157\n",
      "该农作物 2025 年第 2 季 不能种在 D3\n",
      "红萝卜 种植量: x = 13.983764400701915 , 利润 = 124954.96916339059\n",
      "大白菜 种植量: x = 11.930601968413825 , 利润 = 269463.85890880716\n",
      "该农作物 2025 年第 2 季 不能种在 D6\n",
      "白萝卜 种植量: x = 11.997253376058595 , 利润 = 194332.47987752932\n",
      "红萝卜 种植量: x = 9.999542229343099 , 利润 = 118003.61299210398\n",
      "羊肚菌 种植量: x = 0.5980498970016022 , 利润 = 253016.28998011016\n",
      "榆黄菇 种植量: x = 0.5999725337605859 , 利润 = 337130.5389156936\n",
      "该农作物 2025 年第 2 季 不能种在 E13\n"
     ]
    },
    {
     "name": "stderr",
     "output_type": "stream",
     "text": [
      "C:\\Users\\田齐\\AppData\\Local\\Temp\\ipykernel_29884\\277884361.py:85: FutureWarning: Setting an item of incompatible dtype is deprecated and will raise an error in a future version of pandas. Value '0.5980498970016022' has dtype incompatible with int64, please explicitly cast to a compatible dtype first.\n",
      "  result2.loc[index1-26,df_temp.loc[index,'作物名称']] = best_sol\n",
      "C:\\Users\\田齐\\AppData\\Local\\Temp\\ipykernel_29884\\277884361.py:85: FutureWarning: Setting an item of incompatible dtype is deprecated and will raise an error in a future version of pandas. Value '0.5999176012817579' has dtype incompatible with int64, please explicitly cast to a compatible dtype first.\n",
      "  result2.loc[index1-26,df_temp.loc[index,'作物名称']] = best_sol\n",
      "C:\\Users\\田齐\\AppData\\Local\\Temp\\ipykernel_29884\\277884361.py:85: FutureWarning: Setting an item of incompatible dtype is deprecated and will raise an error in a future version of pandas. Value '0.5999542229343099' has dtype incompatible with int64, please explicitly cast to a compatible dtype first.\n",
      "  result2.loc[index1-26,df_temp.loc[index,'作物名称']] = best_sol\n"
     ]
    },
    {
     "name": "stdout",
     "output_type": "stream",
     "text": [
      "白灵菇 种植量: x = 0.5999176012817579 , 利润 = 177940.52850097\n",
      "香菇 种植量: x = 0.5999542229343099 , 利润 = 95698.79139051486\n",
      "油麦菜 种植量: x = 0.5999908445868619 , 利润 = 22206.19172718874\n",
      "榆黄菇 种植量: x = 0.5967681391622797 , 利润 = 373905.29672491114\n"
     ]
    },
    {
     "name": "stderr",
     "output_type": "stream",
     "text": [
      "C:\\Users\\田齐\\AppData\\Local\\Temp\\ipykernel_29884\\277884361.py:85: FutureWarning: Setting an item of incompatible dtype is deprecated and will raise an error in a future version of pandas. Value '0.5999908445868619' has dtype incompatible with int64, please explicitly cast to a compatible dtype first.\n",
      "  result2.loc[index1-26,df_temp.loc[index,'作物名称']] = best_sol\n",
      "C:\\Users\\田齐\\AppData\\Local\\Temp\\ipykernel_29884\\277884361.py:85: FutureWarning: Setting an item of incompatible dtype is deprecated and will raise an error in a future version of pandas. Value '0.5967681391622797' has dtype incompatible with int64, please explicitly cast to a compatible dtype first.\n",
      "  result2.loc[index1-26,df_temp.loc[index,'作物名称']] = best_sol\n"
     ]
    },
    {
     "name": "stdout",
     "output_type": "stream",
     "text": [
      "油麦菜 种植量: x = 0.597976653696498 , 利润 = 22812.82192878613\n",
      "西红柿 种植量: x = 0.5996612497138933 , 利润 = 185641.72280165672\n",
      "羊肚菌 种植量: x = 0.5997436484321355 , 利润 = 227093.6309961785\n"
     ]
    },
    {
     "name": "stderr",
     "output_type": "stream",
     "text": [
      "C:\\Users\\田齐\\AppData\\Local\\Temp\\ipykernel_29884\\277884361.py:85: FutureWarning: Setting an item of incompatible dtype is deprecated and will raise an error in a future version of pandas. Value '0.5996612497138933' has dtype incompatible with int64, please explicitly cast to a compatible dtype first.\n",
      "  result2.loc[index1-26,df_temp.loc[index,'作物名称']] = best_sol\n"
     ]
    },
    {
     "name": "stdout",
     "output_type": "stream",
     "text": [
      "榆黄菇 种植量: x = 0.5998718242160678 , 利润 = 324891.28405846114\n",
      "榆黄菇 种植量: x = 0.5998352025635156 , 利润 = 322828.5493900305\n",
      "羊肚菌 种植量: x = 0.5982513160906385 , 利润 = 214287.0448132893\n",
      "白灵菇 种植量: x = 0.5997344930189975 , 利润 = 183401.34382405994\n",
      "该农作物 2025 年第 2 季 不能种在 E6\n",
      "香菇 种植量: x = 0.5993957427328908 , 利润 = 88129.23366661507\n",
      "香菇 种植量: x = 0.5982055390249484 , 利润 = 88331.32893368317\n",
      "西红柿 种植量: x = 0.5996795605401694 , 利润 = 203776.42283777776\n",
      "红豆 种植量: x = 85.99475089646754 , 利润 = 233494.30815431607\n",
      "红薯 种植量: x = 79.92309452964065 , 利润 = 224351.02529743413\n"
     ]
    },
    {
     "name": "stderr",
     "output_type": "stream",
     "text": [
      "C:\\Users\\田齐\\AppData\\Local\\Temp\\ipykernel_29884\\277884361.py:78: FutureWarning: Setting an item of incompatible dtype is deprecated and will raise an error in a future version of pandas. Value '85.99475089646754' has dtype incompatible with int64, please explicitly cast to a compatible dtype first.\n",
      "  result1.loc[index1,df_temp.loc[index,'作物名称']] = best_sol\n",
      "C:\\Users\\田齐\\AppData\\Local\\Temp\\ipykernel_29884\\277884361.py:78: FutureWarning: Setting an item of incompatible dtype is deprecated and will raise an error in a future version of pandas. Value '79.92309452964065' has dtype incompatible with int64, please explicitly cast to a compatible dtype first.\n",
      "  result1.loc[index1,df_temp.loc[index,'作物名称']] = best_sol\n",
      "C:\\Users\\田齐\\AppData\\Local\\Temp\\ipykernel_29884\\277884361.py:78: FutureWarning: Setting an item of incompatible dtype is deprecated and will raise an error in a future version of pandas. Value '71.99890135042344' has dtype incompatible with int64, please explicitly cast to a compatible dtype first.\n",
      "  result1.loc[index1,df_temp.loc[index,'作物名称']] = best_sol\n"
     ]
    },
    {
     "name": "stdout",
     "output_type": "stream",
     "text": [
      "黑豆 种植量: x = 71.99890135042344 , 利润 = 257692.89094194776\n",
      "黑豆 种植量: x = 67.90038910505837 , 利润 = 198380.06349451392\n",
      "黑豆 种植量: x = 59.97528038452735 , 利润 = 182373.31161060245\n",
      "爬豆 种植量: x = 59.98809796292058 , 利润 = 96525.36150422491\n"
     ]
    },
    {
     "name": "stderr",
     "output_type": "stream",
     "text": [
      "C:\\Users\\田齐\\AppData\\Local\\Temp\\ipykernel_29884\\277884361.py:78: FutureWarning: Setting an item of incompatible dtype is deprecated and will raise an error in a future version of pandas. Value '59.98809796292058' has dtype incompatible with int64, please explicitly cast to a compatible dtype first.\n",
      "  result1.loc[index1,df_temp.loc[index,'作物名称']] = best_sol\n",
      "C:\\Users\\田齐\\AppData\\Local\\Temp\\ipykernel_29884\\277884361.py:78: FutureWarning: Setting an item of incompatible dtype is deprecated and will raise an error in a future version of pandas. Value '54.99748226138705' has dtype incompatible with int64, please explicitly cast to a compatible dtype first.\n",
      "  result1.loc[index1,df_temp.loc[index,'作物名称']] = best_sol\n"
     ]
    },
    {
     "name": "stdout",
     "output_type": "stream",
     "text": [
      "黍子 种植量: x = 54.95216296635385 , 利润 = 143768.6365800294\n",
      "该农作物 2026 年第 1 季 不能种在 A6\n",
      "南瓜 种植量: x = 54.99748226138705 , 利润 = 87941.24682717663\n",
      "红豆 种植量: x = 54.96978713664454 , 利润 = 200079.56966922898\n",
      "爬豆 种植量: x = 55.0 , 利润 = 124471.95076471489\n",
      "绿豆 种植量: x = 49.93514915693904 , 利润 = 195435.5294878304\n",
      "爬豆 种植量: x = 45.987365529869535 , 利润 = 84169.71699823186\n",
      "红豆 种植量: x = 44.978713664454105 , 利润 = 163252.90558321105\n",
      "黍子 种植量: x = 39.96215762569619 , 利润 = 121702.09500680421\n"
     ]
    },
    {
     "name": "stderr",
     "output_type": "stream",
     "text": [
      "C:\\Users\\田齐\\AppData\\Local\\Temp\\ipykernel_29884\\277884361.py:78: FutureWarning: Setting an item of incompatible dtype is deprecated and will raise an error in a future version of pandas. Value '49.93514915693904' has dtype incompatible with int64, please explicitly cast to a compatible dtype first.\n",
      "  result1.loc[index1,df_temp.loc[index,'作物名称']] = best_sol\n",
      "C:\\Users\\田齐\\AppData\\Local\\Temp\\ipykernel_29884\\277884361.py:78: FutureWarning: Setting an item of incompatible dtype is deprecated and will raise an error in a future version of pandas. Value '39.96215762569619' has dtype incompatible with int64, please explicitly cast to a compatible dtype first.\n",
      "  result1.loc[index1,df_temp.loc[index,'作物名称']] = best_sol\n"
     ]
    },
    {
     "name": "stdout",
     "output_type": "stream",
     "text": [
      "高粱 种植量: x = 34.99359121080339 , 利润 = 176048.61066716822\n",
      "红薯 种植量: x = 34.70786602578775 , 利润 = 156148.72490861343\n",
      "红薯 种植量: x = 27.99658197909514 , 利润 = 101763.01088698176\n",
      "荞麦 种植量: x = 26.99958800640879 , 利润 = 89901.48357756801\n"
     ]
    },
    {
     "name": "stderr",
     "output_type": "stream",
     "text": [
      "C:\\Users\\田齐\\AppData\\Local\\Temp\\ipykernel_29884\\277884361.py:78: FutureWarning: Setting an item of incompatible dtype is deprecated and will raise an error in a future version of pandas. Value '34.99359121080339' has dtype incompatible with int64, please explicitly cast to a compatible dtype first.\n",
      "  result1.loc[index1,df_temp.loc[index,'作物名称']] = best_sol\n",
      "C:\\Users\\田齐\\AppData\\Local\\Temp\\ipykernel_29884\\277884361.py:78: FutureWarning: Setting an item of incompatible dtype is deprecated and will raise an error in a future version of pandas. Value '26.99958800640879' has dtype incompatible with int64, please explicitly cast to a compatible dtype first.\n",
      "  result1.loc[index1,df_temp.loc[index,'作物名称']] = best_sol\n"
     ]
    },
    {
     "name": "stdout",
     "output_type": "stream",
     "text": [
      "南瓜 种植量: x = 24.996185244525826 , 利润 = 69819.95409976342\n",
      "荞麦 种植量: x = 24.967956054016938 , 利润 = 72648.3056555049\n",
      "豇豆 种植量: x = 21.998992904554818 , 利润 = 483403.4817065911\n",
      "高粱 种植量: x = 19.960631723506523 , 利润 = 147610.85443919292\n"
     ]
    },
    {
     "name": "stderr",
     "output_type": "stream",
     "text": [
      "C:\\Users\\田齐\\AppData\\Local\\Temp\\ipykernel_29884\\277884361.py:78: FutureWarning: Setting an item of incompatible dtype is deprecated and will raise an error in a future version of pandas. Value '21.998992904554818' has dtype incompatible with int64, please explicitly cast to a compatible dtype first.\n",
      "  result1.loc[index1,df_temp.loc[index,'作物名称']] = best_sol\n"
     ]
    },
    {
     "name": "stdout",
     "output_type": "stream",
     "text": [
      "黍子 种植量: x = 20.0 , 利润 = 94029.27583500827\n",
      "空心菜 种植量: x = 19.966430151827268 , 利润 = 530695.1368087701\n",
      "黍子 种植量: x = 17.98956282902266 , 利润 = 89934.50395672955\n",
      "荞麦 种植量: x = 14.918745708400092 , 利润 = 64213.43450559877\n"
     ]
    },
    {
     "name": "stderr",
     "output_type": "stream",
     "text": [
      "C:\\Users\\田齐\\AppData\\Local\\Temp\\ipykernel_29884\\277884361.py:78: FutureWarning: Setting an item of incompatible dtype is deprecated and will raise an error in a future version of pandas. Value '19.966430151827268' has dtype incompatible with int64, please explicitly cast to a compatible dtype first.\n",
      "  result1.loc[index1,df_temp.loc[index,'作物名称']] = best_sol\n"
     ]
    },
    {
     "name": "stdout",
     "output_type": "stream",
     "text": [
      "黄豆 种植量: x = 14.836346990157931 , 利润 = 99939.15964272749\n",
      "豇豆 种植量: x = 14.990844586861982 , 利润 = 334434.93098477554\n",
      "豇豆 种植量: x = 13.999145494773785 , 利润 = 364921.119899561\n",
      "绿豆 种植量: x = 12.986709391927977 , 利润 = 121613.47738832881\n"
     ]
    },
    {
     "name": "stderr",
     "output_type": "stream",
     "text": [
      "C:\\Users\\田齐\\AppData\\Local\\Temp\\ipykernel_29884\\277884361.py:78: FutureWarning: Setting an item of incompatible dtype is deprecated and will raise an error in a future version of pandas. Value '14.836346990157931' has dtype incompatible with int64, please explicitly cast to a compatible dtype first.\n",
      "  result1.loc[index1,df_temp.loc[index,'作物名称']] = best_sol\n"
     ]
    },
    {
     "name": "stdout",
     "output_type": "stream",
     "text": [
      "芸豆 种植量: x = 11.993774319066148 , 利润 = 141022.4836998204\n",
      "刀豆 种植量: x = 9.999389639124132 , 利润 = 210252.0128648184\n",
      "芸豆 种植量: x = 9.998931868467231 , 利润 = 150132.73437956918\n",
      "茄子 种植量: x = 6.0 , 利润 = 232105.48567127535\n",
      "该农作物 2026 年第 1 季 不能种在 D4\n"
     ]
    },
    {
     "name": "stderr",
     "output_type": "stream",
     "text": [
      "C:\\Users\\田齐\\AppData\\Local\\Temp\\ipykernel_29884\\277884361.py:78: FutureWarning: Setting an item of incompatible dtype is deprecated and will raise an error in a future version of pandas. Value '11.993774319066148' has dtype incompatible with int64, please explicitly cast to a compatible dtype first.\n",
      "  result1.loc[index1,df_temp.loc[index,'作物名称']] = best_sol\n",
      "C:\\Users\\田齐\\AppData\\Local\\Temp\\ipykernel_29884\\277884361.py:78: FutureWarning: Setting an item of incompatible dtype is deprecated and will raise an error in a future version of pandas. Value '9.999389639124132' has dtype incompatible with int64, please explicitly cast to a compatible dtype first.\n",
      "  result1.loc[index1,df_temp.loc[index,'作物名称']] = best_sol\n"
     ]
    },
    {
     "name": "stdout",
     "output_type": "stream",
     "text": [
      "黄心菜 种植量: x = 5.998077363241016 , 利润 = 82882.32610988012\n",
      "黄瓜 种植量: x = 0.599981689173724 , 利润 = 107944.35277227743\n",
      "黄瓜 种植量: x = 0.5999725337605859 , 利润 = 102863.78840820905\n",
      "黄瓜 种植量: x = 0.59902952620737 , 利润 = 106919.72478865735\n"
     ]
    },
    {
     "name": "stderr",
     "output_type": "stream",
     "text": [
      "C:\\Users\\田齐\\AppData\\Local\\Temp\\ipykernel_29884\\277884361.py:78: FutureWarning: Setting an item of incompatible dtype is deprecated and will raise an error in a future version of pandas. Value '5.998077363241016' has dtype incompatible with int64, please explicitly cast to a compatible dtype first.\n",
      "  result1.loc[index1,df_temp.loc[index,'作物名称']] = best_sol\n",
      "C:\\Users\\田齐\\AppData\\Local\\Temp\\ipykernel_29884\\277884361.py:78: FutureWarning: Setting an item of incompatible dtype is deprecated and will raise an error in a future version of pandas. Value '0.599981689173724' has dtype incompatible with int64, please explicitly cast to a compatible dtype first.\n",
      "  result1.loc[index1,df_temp.loc[index,'作物名称']] = best_sol\n"
     ]
    },
    {
     "name": "stdout",
     "output_type": "stream",
     "text": [
      "空心菜 种植量: x = 0.5998718242160678 , 利润 = 27578.407227877506\n",
      "空心菜 种植量: x = 0.5997985809109636 , 利润 = 31597.2497296273\n",
      "芸豆 种植量: x = 0.5998901350423438 , 利润 = 34526.431008790176\n",
      "茄子 种植量: x = 0.5997528038452735 , 利润 = 247470.83913894466\n"
     ]
    },
    {
     "name": "stderr",
     "output_type": "stream",
     "text": [
      "C:\\Users\\田齐\\AppData\\Local\\Temp\\ipykernel_29884\\277884361.py:78: FutureWarning: Setting an item of incompatible dtype is deprecated and will raise an error in a future version of pandas. Value '0.5997528038452735' has dtype incompatible with int64, please explicitly cast to a compatible dtype first.\n",
      "  result1.loc[index1,df_temp.loc[index,'作物名称']] = best_sol\n",
      "C:\\Users\\田齐\\AppData\\Local\\Temp\\ipykernel_29884\\277884361.py:78: FutureWarning: Setting an item of incompatible dtype is deprecated and will raise an error in a future version of pandas. Value '0.6' has dtype incompatible with int64, please explicitly cast to a compatible dtype first.\n",
      "  result1.loc[index1,df_temp.loc[index,'作物名称']] = best_sol\n"
     ]
    },
    {
     "name": "stdout",
     "output_type": "stream",
     "text": [
      "包菜 种植量: x = 0.5999176012817579 , 利润 = 28358.01811845571\n",
      "该农作物 2026 年第 1 季 不能种在 E12\n",
      "芹菜 种植量: x = 0.6 , 利润 = 13169.935570941727\n",
      "刀豆 种植量: x = 0.5999542229343099 , 利润 = 164836.44361086175\n",
      "刀豆 种植量: x = 0.5997344930189975 , 利润 = 122813.68838710837\n",
      "包菜 种植量: x = 0.598461890592813 , 利润 = 25154.559048524054\n",
      "茄子 种植量: x = 0.5999542229343099 , 利润 = 193229.83233754462\n",
      "茄子 种植量: x = 0.5996063172350652 , 利润 = 204302.91901635518\n",
      "大白菜 种植量: x = 19.984740978103304 , 利润 = 352220.44464190013\n"
     ]
    },
    {
     "name": "stderr",
     "output_type": "stream",
     "text": [
      "C:\\Users\\田齐\\AppData\\Local\\Temp\\ipykernel_29884\\277884361.py:78: FutureWarning: Setting an item of incompatible dtype is deprecated and will raise an error in a future version of pandas. Value '0.598461890592813' has dtype incompatible with int64, please explicitly cast to a compatible dtype first.\n",
      "  result1.loc[index1,df_temp.loc[index,'作物名称']] = best_sol\n",
      "C:\\Users\\田齐\\AppData\\Local\\Temp\\ipykernel_29884\\277884361.py:85: FutureWarning: Setting an item of incompatible dtype is deprecated and will raise an error in a future version of pandas. Value '19.984740978103304' has dtype incompatible with int64, please explicitly cast to a compatible dtype first.\n",
      "  result2.loc[index1-26,df_temp.loc[index,'作物名称']] = best_sol\n"
     ]
    },
    {
     "name": "stdout",
     "output_type": "stream",
     "text": [
      "大白菜 种植量: x = 6.0 , 利润 = 281792.86824155715\n",
      "榆黄菇 种植量: x = 0.5999450675211718 , 利润 = 347165.0409513358\n",
      "榆黄菇 种植量: x = 0.5991943236438544 , 利润 = 375554.53664574225\n",
      "芹菜 种植量: x = 0.5999359121080339 , 利润 = 14873.248831384066\n"
     ]
    },
    {
     "name": "stderr",
     "output_type": "stream",
     "text": [
      "C:\\Users\\田齐\\AppData\\Local\\Temp\\ipykernel_29884\\277884361.py:85: FutureWarning: Setting an item of incompatible dtype is deprecated and will raise an error in a future version of pandas. Value '0.5999450675211718' has dtype incompatible with int64, please explicitly cast to a compatible dtype first.\n",
      "  result2.loc[index1-26,df_temp.loc[index,'作物名称']] = best_sol\n",
      "C:\\Users\\田齐\\AppData\\Local\\Temp\\ipykernel_29884\\277884361.py:85: FutureWarning: Setting an item of incompatible dtype is deprecated and will raise an error in a future version of pandas. Value '0.5999359121080339' has dtype incompatible with int64, please explicitly cast to a compatible dtype first.\n",
      "  result2.loc[index1-26,df_temp.loc[index,'作物名称']] = best_sol\n"
     ]
    },
    {
     "name": "stdout",
     "output_type": "stream",
     "text": [
      "榆黄菇 种植量: x = 0.5999725337605859 , 利润 = 433141.0281614281\n",
      "该农作物 2026 年第 2 季 不能种在 E16\n",
      "白灵菇 种植量: x = 0.6 , 利润 = 208859.80788882304\n",
      "包菜 种植量: x = 0.5997528038452735 , 利润 = 25268.078698965965\n",
      "包菜 种植量: x = 0.5999084458686198 , 利润 = 25493.758315179653\n"
     ]
    },
    {
     "name": "stderr",
     "output_type": "stream",
     "text": [
      "C:\\Users\\田齐\\AppData\\Local\\Temp\\ipykernel_29884\\277884361.py:85: FutureWarning: Setting an item of incompatible dtype is deprecated and will raise an error in a future version of pandas. Value '0.6' has dtype incompatible with int64, please explicitly cast to a compatible dtype first.\n",
      "  result2.loc[index1-26,df_temp.loc[index,'作物名称']] = best_sol\n",
      "C:\\Users\\田齐\\AppData\\Local\\Temp\\ipykernel_29884\\277884361.py:85: FutureWarning: Setting an item of incompatible dtype is deprecated and will raise an error in a future version of pandas. Value '0.5997528038452735' has dtype incompatible with int64, please explicitly cast to a compatible dtype first.\n",
      "  result2.loc[index1-26,df_temp.loc[index,'作物名称']] = best_sol\n"
     ]
    },
    {
     "name": "stdout",
     "output_type": "stream",
     "text": [
      "香菇 种植量: x = 0.5999176012817579 , 利润 = 105223.9974318597\n",
      "羊肚菌 种植量: x = 0.599981689173724 , 利润 = 223404.3002468745\n",
      "榆黄菇 种植量: x = 0.5999267566948958 , 利润 = 334237.04172719695\n"
     ]
    },
    {
     "name": "stderr",
     "output_type": "stream",
     "text": [
      "C:\\Users\\田齐\\AppData\\Local\\Temp\\ipykernel_29884\\277884361.py:85: FutureWarning: Setting an item of incompatible dtype is deprecated and will raise an error in a future version of pandas. Value '0.5999176012817579' has dtype incompatible with int64, please explicitly cast to a compatible dtype first.\n",
      "  result2.loc[index1-26,df_temp.loc[index,'作物名称']] = best_sol\n",
      "C:\\Users\\田齐\\AppData\\Local\\Temp\\ipykernel_29884\\277884361.py:85: FutureWarning: Setting an item of incompatible dtype is deprecated and will raise an error in a future version of pandas. Value '0.599981689173724' has dtype incompatible with int64, please explicitly cast to a compatible dtype first.\n",
      "  result2.loc[index1-26,df_temp.loc[index,'作物名称']] = best_sol\n"
     ]
    },
    {
     "name": "stdout",
     "output_type": "stream",
     "text": [
      "红薯 种植量: x = 85.98425268940261 , 利润 = 163461.15845867636\n",
      "红薯 种植量: x = 79.9316395819028 , 利润 = 199278.94812835642\n",
      "该农作物 2027 年第 1 季 不能种在 A1\n",
      "南瓜 种植量: x = 79.94262607766842 , 利润 = 148179.42981735663\n",
      "高粱 种植量: x = 71.99230945296407 , 利润 = 184927.93400356197\n"
     ]
    },
    {
     "name": "stderr",
     "output_type": "stream",
     "text": [
      "C:\\Users\\田齐\\AppData\\Local\\Temp\\ipykernel_29884\\277884361.py:78: FutureWarning: Setting an item of incompatible dtype is deprecated and will raise an error in a future version of pandas. Value '85.98425268940261' has dtype incompatible with int64, please explicitly cast to a compatible dtype first.\n",
      "  result1.loc[index1,df_temp.loc[index,'作物名称']] = best_sol\n",
      "C:\\Users\\田齐\\AppData\\Local\\Temp\\ipykernel_29884\\277884361.py:78: FutureWarning: Setting an item of incompatible dtype is deprecated and will raise an error in a future version of pandas. Value '79.94262607766842' has dtype incompatible with int64, please explicitly cast to a compatible dtype first.\n",
      "  result1.loc[index1,df_temp.loc[index,'作物名称']] = best_sol\n",
      "C:\\Users\\田齐\\AppData\\Local\\Temp\\ipykernel_29884\\277884361.py:78: FutureWarning: Setting an item of incompatible dtype is deprecated and will raise an error in a future version of pandas. Value '71.99230945296407' has dtype incompatible with int64, please explicitly cast to a compatible dtype first.\n",
      "  result1.loc[index1,df_temp.loc[index,'作物名称']] = best_sol\n"
     ]
    },
    {
     "name": "stdout",
     "output_type": "stream",
     "text": [
      "黍子 种植量: x = 67.9875486381323 , 利润 = 222529.95099906262\n",
      "红薯 种植量: x = 59.9990844586862 , 利润 = 146283.25738955903\n",
      "南瓜 种植量: x = 59.987182421606775 , 利润 = 143423.31163912127\n",
      "爬豆 种植量: x = 54.98069733730068 , 利润 = 71059.87355233956\n"
     ]
    },
    {
     "name": "stderr",
     "output_type": "stream",
     "text": [
      "C:\\Users\\田齐\\AppData\\Local\\Temp\\ipykernel_29884\\277884361.py:78: FutureWarning: Setting an item of incompatible dtype is deprecated and will raise an error in a future version of pandas. Value '67.9875486381323' has dtype incompatible with int64, please explicitly cast to a compatible dtype first.\n",
      "  result1.loc[index1,df_temp.loc[index,'作物名称']] = best_sol\n",
      "C:\\Users\\田齐\\AppData\\Local\\Temp\\ipykernel_29884\\277884361.py:78: FutureWarning: Setting an item of incompatible dtype is deprecated and will raise an error in a future version of pandas. Value '54.98069733730068' has dtype incompatible with int64, please explicitly cast to a compatible dtype first.\n",
      "  result1.loc[index1,df_temp.loc[index,'作物名称']] = best_sol\n"
     ]
    },
    {
     "name": "stdout",
     "output_type": "stream",
     "text": [
      "荞麦 种植量: x = 55.0 , 利润 = 166128.2646251561\n",
      "红薯 种植量: x = 54.94880598153658 , 利润 = 186803.08871132956\n",
      "荞麦 种植量: x = 49.96948195620661 , 利润 = 157772.80578715107\n",
      "高粱 种植量: x = 45.99298084992752 , 利润 = 174355.3786420585\n"
     ]
    },
    {
     "name": "stderr",
     "output_type": "stream",
     "text": [
      "C:\\Users\\田齐\\AppData\\Local\\Temp\\ipykernel_29884\\277884361.py:78: FutureWarning: Setting an item of incompatible dtype is deprecated and will raise an error in a future version of pandas. Value '49.96948195620661' has dtype incompatible with int64, please explicitly cast to a compatible dtype first.\n",
      "  result1.loc[index1,df_temp.loc[index,'作物名称']] = best_sol\n"
     ]
    },
    {
     "name": "stdout",
     "output_type": "stream",
     "text": [
      "南瓜 种植量: x = 44.9986266880293 , 利润 = 71119.15986790991\n",
      "黑豆 种植量: x = 43.991943236438544 , 利润 = 186895.89046120306\n",
      "高粱 种植量: x = 39.99511711299306 , 利润 = 149013.43547078484\n"
     ]
    },
    {
     "name": "stderr",
     "output_type": "stream",
     "text": [
      "C:\\Users\\田齐\\AppData\\Local\\Temp\\ipykernel_29884\\277884361.py:78: FutureWarning: Setting an item of incompatible dtype is deprecated and will raise an error in a future version of pandas. Value '43.991943236438544' has dtype incompatible with int64, please explicitly cast to a compatible dtype first.\n",
      "  result1.loc[index1,df_temp.loc[index,'作物名称']] = best_sol\n"
     ]
    },
    {
     "name": "stdout",
     "output_type": "stream",
     "text": [
      "荞麦 种植量: x = 35.0 , 利润 = 128135.523861783\n",
      "黑豆 种植量: x = 34.6854352635996 , 利润 = 191193.36120093722\n",
      "黄豆 种植量: x = 27.758175020981156 , 利润 = 108142.64118137861\n",
      "黑豆 种植量: x = 27.0 , 利润 = 162796.97113058518\n"
     ]
    },
    {
     "name": "stderr",
     "output_type": "stream",
     "text": [
      "C:\\Users\\田齐\\AppData\\Local\\Temp\\ipykernel_29884\\277884361.py:78: FutureWarning: Setting an item of incompatible dtype is deprecated and will raise an error in a future version of pandas. Value '27.758175020981156' has dtype incompatible with int64, please explicitly cast to a compatible dtype first.\n",
      "  result1.loc[index1,df_temp.loc[index,'作物名称']] = best_sol\n"
     ]
    },
    {
     "name": "stdout",
     "output_type": "stream",
     "text": [
      "黄豆 种植量: x = 24.974441138323034 , 利润 = 138148.6563851717\n",
      "红豆 种植量: x = 25.0 , 利润 = 136150.62928232262\n",
      "茄子 种植量: x = 22.0 , 利润 = 586311.5809157896\n",
      "黍子 种植量: x = 19.999694819562066 , 利润 = 111083.84124601023\n",
      "玉米 种植量: x = 19.988708323796445 , 利润 = 211622.74775064626\n",
      "黄瓜 种植量: x = 19.998779278248264 , 利润 = 1451616.797331012\n",
      "爬豆 种植量: x = 17.998901350423438 , 利润 = 56194.257562375176\n",
      "黍子 种植量: x = 14.997940032043946 , 利润 = 79231.84782126718\n"
     ]
    },
    {
     "name": "stderr",
     "output_type": "stream",
     "text": [
      "C:\\Users\\田齐\\AppData\\Local\\Temp\\ipykernel_29884\\277884361.py:78: FutureWarning: Setting an item of incompatible dtype is deprecated and will raise an error in a future version of pandas. Value '19.988708323796445' has dtype incompatible with int64, please explicitly cast to a compatible dtype first.\n",
      "  result1.loc[index1,df_temp.loc[index,'作物名称']] = best_sol\n",
      "C:\\Users\\田齐\\AppData\\Local\\Temp\\ipykernel_29884\\277884361.py:78: FutureWarning: Setting an item of incompatible dtype is deprecated and will raise an error in a future version of pandas. Value '19.998779278248264' has dtype incompatible with int64, please explicitly cast to a compatible dtype first.\n",
      "  result1.loc[index1,df_temp.loc[index,'作物名称']] = best_sol\n"
     ]
    },
    {
     "name": "stdout",
     "output_type": "stream",
     "text": [
      "玉米 种植量: x = 14.97962920576791 , 利润 = 188114.34469388795\n",
      "黄瓜 种植量: x = 14.954451819638361 , 利润 = 873611.3754172372\n",
      "空心菜 种植量: x = 14.0 , 利润 = 274788.8641658953\n",
      "玉米 种植量: x = 12.998214694438087 , 利润 = 362153.2813860045\n",
      "黄瓜 种植量: x = 12.0 , 利润 = 857792.7622171583\n",
      "空心菜 种植量: x = 9.995574883649958 , 利润 = 297821.58966217464\n",
      "茄子 种植量: x = 9.999847409781033 , 利润 = 359474.7417123363\n",
      "芸豆 种植量: x = 5.999542229343099 , 利润 = 119383.40643496436\n"
     ]
    },
    {
     "name": "stderr",
     "output_type": "stream",
     "text": [
      "C:\\Users\\田齐\\AppData\\Local\\Temp\\ipykernel_29884\\277884361.py:78: FutureWarning: Setting an item of incompatible dtype is deprecated and will raise an error in a future version of pandas. Value '9.995574883649958' has dtype incompatible with int64, please explicitly cast to a compatible dtype first.\n",
      "  result1.loc[index1,df_temp.loc[index,'作物名称']] = best_sol\n",
      "C:\\Users\\田齐\\AppData\\Local\\Temp\\ipykernel_29884\\277884361.py:78: FutureWarning: Setting an item of incompatible dtype is deprecated and will raise an error in a future version of pandas. Value '9.999847409781033' has dtype incompatible with int64, please explicitly cast to a compatible dtype first.\n",
      "  result1.loc[index1,df_temp.loc[index,'作物名称']] = best_sol\n",
      "C:\\Users\\田齐\\AppData\\Local\\Temp\\ipykernel_29884\\277884361.py:78: FutureWarning: Setting an item of incompatible dtype is deprecated and will raise an error in a future version of pandas. Value '5.999542229343099' has dtype incompatible with int64, please explicitly cast to a compatible dtype first.\n",
      "  result1.loc[index1,df_temp.loc[index,'作物名称']] = best_sol\n",
      "C:\\Users\\田齐\\AppData\\Local\\Temp\\ipykernel_29884\\277884361.py:78: FutureWarning: Setting an item of incompatible dtype is deprecated and will raise an error in a future version of pandas. Value '0.599981689173724' has dtype incompatible with int64, please explicitly cast to a compatible dtype first.\n",
      "  result1.loc[index1,df_temp.loc[index,'作物名称']] = best_sol\n"
     ]
    },
    {
     "name": "stdout",
     "output_type": "stream",
     "text": [
      "豇豆 种植量: x = 0.599981689173724 , 利润 = 289927.14789367793\n",
      "豇豆 种植量: x = 0.5988189517051957 , 利润 = 250224.688372924\n",
      "豇豆 种植量: x = 0.5999542229343099 , 利润 = 300641.07272725663\n",
      "芹菜 种植量: x = 0.5998901350423438 , 利润 = 18336.212323095064\n"
     ]
    },
    {
     "name": "stderr",
     "output_type": "stream",
     "text": [
      "C:\\Users\\田齐\\AppData\\Local\\Temp\\ipykernel_29884\\277884361.py:78: FutureWarning: Setting an item of incompatible dtype is deprecated and will raise an error in a future version of pandas. Value '0.5998901350423438' has dtype incompatible with int64, please explicitly cast to a compatible dtype first.\n",
      "  result1.loc[index1,df_temp.loc[index,'作物名称']] = best_sol\n",
      "C:\\Users\\田齐\\AppData\\Local\\Temp\\ipykernel_29884\\277884361.py:78: FutureWarning: Setting an item of incompatible dtype is deprecated and will raise an error in a future version of pandas. Value '0.5988281071183337' has dtype incompatible with int64, please explicitly cast to a compatible dtype first.\n",
      "  result1.loc[index1,df_temp.loc[index,'作物名称']] = best_sol\n"
     ]
    },
    {
     "name": "stdout",
     "output_type": "stream",
     "text": [
      "芹菜 种植量: x = 0.5993591210803387 , 利润 = 17077.970599529566\n",
      "茄子 种植量: x = 0.5997894254978255 , 利润 = 280066.3026406194\n",
      "该农作物 2027 年第 1 季 不能种在 E13\n",
      "油麦菜 种植量: x = 0.5988281071183337 , 利润 = 25571.537019799172\n",
      "刀豆 种植量: x = 0.599963378347448 , 利润 = 185729.32611005876\n"
     ]
    },
    {
     "name": "stderr",
     "output_type": "stream",
     "text": [
      "C:\\Users\\田齐\\AppData\\Local\\Temp\\ipykernel_29884\\277884361.py:78: FutureWarning: Setting an item of incompatible dtype is deprecated and will raise an error in a future version of pandas. Value '0.599963378347448' has dtype incompatible with int64, please explicitly cast to a compatible dtype first.\n",
      "  result1.loc[index1,df_temp.loc[index,'作物名称']] = best_sol\n"
     ]
    },
    {
     "name": "stdout",
     "output_type": "stream",
     "text": [
      "芸豆 种植量: x = 0.5982146944380865 , 利润 = 45438.35568683423\n",
      "空心菜 种植量: x = 0.5998535133897916 , 利润 = 36530.186633025594\n",
      "茄子 种植量: x = 0.5994689860379949 , 利润 = 289726.55441049836\n",
      "芸豆 种植量: x = 0.599981689173724 , 利润 = 40521.86383619621\n",
      "菜花 种植量: x = 0.5999176012817579 , 利润 = 19551.974919845175\n",
      "刀豆 种植量: x = 0.5993316548409247 , 利润 = 195279.8089198186\n"
     ]
    },
    {
     "name": "stderr",
     "output_type": "stream",
     "text": [
      "C:\\Users\\田齐\\AppData\\Local\\Temp\\ipykernel_29884\\277884361.py:78: FutureWarning: Setting an item of incompatible dtype is deprecated and will raise an error in a future version of pandas. Value '0.5999176012817579' has dtype incompatible with int64, please explicitly cast to a compatible dtype first.\n",
      "  result1.loc[index1,df_temp.loc[index,'作物名称']] = best_sol\n"
     ]
    },
    {
     "name": "stdout",
     "output_type": "stream",
     "text": [
      "芹菜 种植量: x = 0.5999908445868619 , 利润 = 13214.910446355896\n",
      "刀豆 种植量: x = 0.5998535133897916 , 利润 = 175751.0751980089\n",
      "包菜 种植量: x = 0.5995788509956511 , 利润 = 30069.849722790215\n",
      "大白菜 种植量: x = 21.99395742732891 , 利润 = 281239.2336906029\n"
     ]
    },
    {
     "name": "stderr",
     "output_type": "stream",
     "text": [
      "C:\\Users\\田齐\\AppData\\Local\\Temp\\ipykernel_29884\\277884361.py:78: FutureWarning: Setting an item of incompatible dtype is deprecated and will raise an error in a future version of pandas. Value '0.5995788509956511' has dtype incompatible with int64, please explicitly cast to a compatible dtype first.\n",
      "  result1.loc[index1,df_temp.loc[index,'作物名称']] = best_sol\n",
      "C:\\Users\\田齐\\AppData\\Local\\Temp\\ipykernel_29884\\277884361.py:85: FutureWarning: Setting an item of incompatible dtype is deprecated and will raise an error in a future version of pandas. Value '21.99395742732891' has dtype incompatible with int64, please explicitly cast to a compatible dtype first.\n",
      "  result2.loc[index1-26,df_temp.loc[index,'作物名称']] = best_sol\n"
     ]
    },
    {
     "name": "stdout",
     "output_type": "stream",
     "text": [
      "大白菜 种植量: x = 19.91607537956817 , 利润 = 319783.0286136521\n",
      "该农作物 2027 年第 2 季 不能种在 D8\n",
      "红萝卜 种植量: x = 20.0 , 利润 = 150005.6902763117\n",
      "大白菜 种植量: x = 14.996337834744793 , 利润 = 362872.379649483\n",
      "大白菜 种植量: x = 13.992309452964065 , 利润 = 423886.3424667834\n",
      "白萝卜 种植量: x = 11.842893110551614 , 利润 = 233246.30598377812\n",
      "白萝卜 种植量: x = 10.0 , 利润 = 284510.2824835668\n",
      "白萝卜 种植量: x = 9.99343862058442 , 利润 = 234835.1343691231\n"
     ]
    },
    {
     "name": "stderr",
     "output_type": "stream",
     "text": [
      "C:\\Users\\田齐\\AppData\\Local\\Temp\\ipykernel_29884\\277884361.py:85: FutureWarning: Setting an item of incompatible dtype is deprecated and will raise an error in a future version of pandas. Value '11.842893110551614' has dtype incompatible with int64, please explicitly cast to a compatible dtype first.\n",
      "  result2.loc[index1-26,df_temp.loc[index,'作物名称']] = best_sol\n"
     ]
    },
    {
     "name": "stdout",
     "output_type": "stream",
     "text": [
      "羊肚菌 种植量: x = 0.599963378347448 , 利润 = 278331.77341325366\n",
      "白灵菇 种植量: x = 0.5998626688029297 , 利润 = 245542.42199333268\n",
      "羊肚菌 种植量: x = 0.5998443579766537 , 利润 = 226913.64852065258\n"
     ]
    },
    {
     "name": "stderr",
     "output_type": "stream",
     "text": [
      "C:\\Users\\田齐\\AppData\\Local\\Temp\\ipykernel_29884\\277884361.py:85: FutureWarning: Setting an item of incompatible dtype is deprecated and will raise an error in a future version of pandas. Value '0.599963378347448' has dtype incompatible with int64, please explicitly cast to a compatible dtype first.\n",
      "  result2.loc[index1-26,df_temp.loc[index,'作物名称']] = best_sol\n",
      "C:\\Users\\田齐\\AppData\\Local\\Temp\\ipykernel_29884\\277884361.py:85: FutureWarning: Setting an item of incompatible dtype is deprecated and will raise an error in a future version of pandas. Value '0.5998626688029297' has dtype incompatible with int64, please explicitly cast to a compatible dtype first.\n",
      "  result2.loc[index1-26,df_temp.loc[index,'作物名称']] = best_sol\n"
     ]
    },
    {
     "name": "stdout",
     "output_type": "stream",
     "text": [
      "白灵菇 种植量: x = 0.5997344930189975 , 利润 = 209653.48911648412\n",
      "榆黄菇 种植量: x = 0.5991393911650263 , 利润 = 416083.04675232235\n",
      "白灵菇 种植量: x = 0.5974914168001831 , 利润 = 154943.82545567636\n",
      "羊肚菌 种植量: x = 0.5994140535591669 , 利润 = 191331.7850681564\n",
      "该农作物 2027 年第 2 季 不能种在 E4\n"
     ]
    },
    {
     "name": "stderr",
     "output_type": "stream",
     "text": [
      "C:\\Users\\田齐\\AppData\\Local\\Temp\\ipykernel_29884\\277884361.py:85: FutureWarning: Setting an item of incompatible dtype is deprecated and will raise an error in a future version of pandas. Value '0.5991393911650263' has dtype incompatible with int64, please explicitly cast to a compatible dtype first.\n",
      "  result2.loc[index1-26,df_temp.loc[index,'作物名称']] = best_sol\n",
      "C:\\Users\\田齐\\AppData\\Local\\Temp\\ipykernel_29884\\277884361.py:85: FutureWarning: Setting an item of incompatible dtype is deprecated and will raise an error in a future version of pandas. Value '0.5996612497138933' has dtype incompatible with int64, please explicitly cast to a compatible dtype first.\n",
      "  result2.loc[index1-26,df_temp.loc[index,'作物名称']] = best_sol\n"
     ]
    },
    {
     "name": "stdout",
     "output_type": "stream",
     "text": [
      "香菇 种植量: x = 0.5996612497138933 , 利润 = 105013.02862315217\n",
      "榆黄菇 种植量: x = 0.5992858777752346 , 利润 = 397044.4549482387\n",
      "该农作物 2027 年第 2 季 不能种在 E1\n",
      "南瓜 种植量: x = 86.0 , 利润 = 121997.46834068053\n",
      "红薯 种植量: x = 71.9274891279469 , 利润 = 227940.15924152362\n",
      "南瓜 种植量: x = 68.0 , 利润 = 166385.2285841229\n"
     ]
    },
    {
     "name": "stderr",
     "output_type": "stream",
     "text": [
      "C:\\Users\\田齐\\AppData\\Local\\Temp\\ipykernel_29884\\277884361.py:78: FutureWarning: Setting an item of incompatible dtype is deprecated and will raise an error in a future version of pandas. Value '71.9274891279469' has dtype incompatible with int64, please explicitly cast to a compatible dtype first.\n",
      "  result1.loc[index1,df_temp.loc[index,'作物名称']] = best_sol\n",
      "C:\\Users\\田齐\\AppData\\Local\\Temp\\ipykernel_29884\\277884361.py:78: FutureWarning: Setting an item of incompatible dtype is deprecated and will raise an error in a future version of pandas. Value '59.987182421606775' has dtype incompatible with int64, please explicitly cast to a compatible dtype first.\n",
      "  result1.loc[index1,df_temp.loc[index,'作物名称']] = best_sol\n"
     ]
    },
    {
     "name": "stdout",
     "output_type": "stream",
     "text": [
      "红薯 种植量: x = 60.0 , 利润 = 169939.2921211515\n",
      "该农作物 2028 年第 1 季 不能种在 B11\n",
      "荞麦 种植量: x = 59.987182421606775 , 利润 = 116510.04789169555\n",
      "红薯 种植量: x = 59.96978713664454 , 利润 = 147522.23541546756\n",
      "黍子 种植量: x = 55.0 , 利润 = 186191.1283086047\n",
      "红薯 种植量: x = 54.98489356832227 , 利润 = 175452.77149115285\n",
      "南瓜 种植量: x = 54.994125276569775 , 利润 = 150900.9336698146\n",
      "高粱 种植量: x = 49.77035172045472 , 利润 = 236137.8705028514\n",
      "荞麦 种植量: x = 45.98947127489128 , 利润 = 74993.40991153228\n"
     ]
    },
    {
     "name": "stderr",
     "output_type": "stream",
     "text": [
      "C:\\Users\\田齐\\AppData\\Local\\Temp\\ipykernel_29884\\277884361.py:78: FutureWarning: Setting an item of incompatible dtype is deprecated and will raise an error in a future version of pandas. Value '54.994125276569775' has dtype incompatible with int64, please explicitly cast to a compatible dtype first.\n",
      "  result1.loc[index1,df_temp.loc[index,'作物名称']] = best_sol\n",
      "C:\\Users\\田齐\\AppData\\Local\\Temp\\ipykernel_29884\\277884361.py:78: FutureWarning: Setting an item of incompatible dtype is deprecated and will raise an error in a future version of pandas. Value '49.77035172045472' has dtype incompatible with int64, please explicitly cast to a compatible dtype first.\n",
      "  result1.loc[index1,df_temp.loc[index,'作物名称']] = best_sol\n",
      "C:\\Users\\田齐\\AppData\\Local\\Temp\\ipykernel_29884\\277884361.py:78: FutureWarning: Setting an item of incompatible dtype is deprecated and will raise an error in a future version of pandas. Value '44.943007553215836' has dtype incompatible with int64, please explicitly cast to a compatible dtype first.\n",
      "  result1.loc[index1,df_temp.loc[index,'作物名称']] = best_sol\n"
     ]
    },
    {
     "name": "stdout",
     "output_type": "stream",
     "text": [
      "玉米 种植量: x = 44.943007553215836 , 利润 = 394636.5466861164\n",
      "荞麦 种植量: x = 43.869077592126345 , 利润 = 145259.2864948025\n",
      "黑豆 种植量: x = 39.98535133897917 , 利润 = 184308.4444764185\n"
     ]
    },
    {
     "name": "stderr",
     "output_type": "stream",
     "text": [
      "C:\\Users\\田齐\\AppData\\Local\\Temp\\ipykernel_29884\\277884361.py:78: FutureWarning: Setting an item of incompatible dtype is deprecated and will raise an error in a future version of pandas. Value '39.98535133897917' has dtype incompatible with int64, please explicitly cast to a compatible dtype first.\n",
      "  result1.loc[index1,df_temp.loc[index,'作物名称']] = best_sol\n",
      "C:\\Users\\田齐\\AppData\\Local\\Temp\\ipykernel_29884\\277884361.py:78: FutureWarning: Setting an item of incompatible dtype is deprecated and will raise an error in a future version of pandas. Value '34.83817807278554' has dtype incompatible with int64, please explicitly cast to a compatible dtype first.\n",
      "  result1.loc[index1,df_temp.loc[index,'作物名称']] = best_sol\n",
      "C:\\Users\\田齐\\AppData\\Local\\Temp\\ipykernel_29884\\277884361.py:78: FutureWarning: Setting an item of incompatible dtype is deprecated and will raise an error in a future version of pandas. Value '34.99626153963531' has dtype incompatible with int64, please explicitly cast to a compatible dtype first.\n",
      "  result1.loc[index1,df_temp.loc[index,'作物名称']] = best_sol\n"
     ]
    },
    {
     "name": "stdout",
     "output_type": "stream",
     "text": [
      "红豆 种植量: x = 34.83817807278554 , 利润 = 174234.8794972922\n",
      "黍子 种植量: x = 34.99626153963531 , 利润 = 164783.63053048862\n",
      "红豆 种植量: x = 27.99829098954757 , 利润 = 195055.21889022883\n",
      "黍子 种植量: x = 26.99917601281758 , 利润 = 104108.26507722064\n",
      "红豆 种植量: x = 24.971007858396277 , 利润 = 177857.59869392723\n",
      "黑豆 种植量: x = 24.91912718394751 , 利润 = 122696.31046798514\n",
      "豇豆 种植量: x = 21.997985809109636 , 利润 = 485714.3428702549\n",
      "爬豆 种植量: x = 19.993286030365454 , 利润 = 72315.1184361171\n"
     ]
    },
    {
     "name": "stderr",
     "output_type": "stream",
     "text": [
      "C:\\Users\\田齐\\AppData\\Local\\Temp\\ipykernel_29884\\277884361.py:78: FutureWarning: Setting an item of incompatible dtype is deprecated and will raise an error in a future version of pandas. Value '21.997985809109636' has dtype incompatible with int64, please explicitly cast to a compatible dtype first.\n",
      "  result1.loc[index1,df_temp.loc[index,'作物名称']] = best_sol\n",
      "C:\\Users\\田齐\\AppData\\Local\\Temp\\ipykernel_29884\\277884361.py:78: FutureWarning: Setting an item of incompatible dtype is deprecated and will raise an error in a future version of pandas. Value '19.993286030365454' has dtype incompatible with int64, please explicitly cast to a compatible dtype first.\n",
      "  result1.loc[index1,df_temp.loc[index,'作物名称']] = best_sol\n"
     ]
    },
    {
     "name": "stdout",
     "output_type": "stream",
     "text": [
      "爬豆 种植量: x = 20.0 , 利润 = 56992.74331309083\n",
      "豇豆 种植量: x = 19.966124971389334 , 利润 = 585939.272553418\n",
      "黑豆 种植量: x = 17.997253376058595 , 利润 = 148459.9478685698\n",
      "爬豆 种植量: x = 14.996566720073243 , 利润 = 38373.3193390253\n",
      "高粱 种植量: x = 14.93797207598993 , 利润 = 90005.15403643272\n",
      "黄瓜 种植量: x = 14.992446784161135 , 利润 = 1055575.1793711206\n",
      "该农作物 2028 年第 1 季 不能种在 D1\n",
      "空心菜 种植量: x = 14.999542229343099 , 利润 = 532946.6709219613\n",
      "黄瓜 种植量: x = 13.998718242160678 , 利润 = 1213716.063745268\n"
     ]
    },
    {
     "name": "stderr",
     "output_type": "stream",
     "text": [
      "C:\\Users\\田齐\\AppData\\Local\\Temp\\ipykernel_29884\\277884361.py:78: FutureWarning: Setting an item of incompatible dtype is deprecated and will raise an error in a future version of pandas. Value '14.999542229343099' has dtype incompatible with int64, please explicitly cast to a compatible dtype first.\n",
      "  result1.loc[index1,df_temp.loc[index,'作物名称']] = best_sol\n",
      "C:\\Users\\田齐\\AppData\\Local\\Temp\\ipykernel_29884\\277884361.py:78: FutureWarning: Setting an item of incompatible dtype is deprecated and will raise an error in a future version of pandas. Value '13.998718242160678' has dtype incompatible with int64, please explicitly cast to a compatible dtype first.\n",
      "  result1.loc[index1,df_temp.loc[index,'作物名称']] = best_sol\n"
     ]
    },
    {
     "name": "stdout",
     "output_type": "stream",
     "text": [
      "高粱 种植量: x = 12.99127183947509 , 利润 = 138619.12997123416\n",
      "空心菜 种植量: x = 12.0 , 利润 = 414276.6267002377\n",
      "茄子 种植量: x = 10.0 , 利润 = 249091.9837549139\n",
      "空心菜 种植量: x = 9.983367666132601 , 利润 = 327350.1137069603\n",
      "茄子 种植量: x = 6.0 , 利润 = 410954.5536133527\n",
      "黄瓜 种植量: x = 0.5999176012817579 , 利润 = 164720.27182786804\n",
      "黄瓜 种植量: x = 0.599981689173724 , 利润 = 137614.45156001486\n",
      "茄子 种植量: x = 0.5998809796292057 , 利润 = 263562.46821297077\n"
     ]
    },
    {
     "name": "stderr",
     "output_type": "stream",
     "text": [
      "C:\\Users\\田齐\\AppData\\Local\\Temp\\ipykernel_29884\\277884361.py:78: FutureWarning: Setting an item of incompatible dtype is deprecated and will raise an error in a future version of pandas. Value '0.5998809796292057' has dtype incompatible with int64, please explicitly cast to a compatible dtype first.\n",
      "  result1.loc[index1,df_temp.loc[index,'作物名称']] = best_sol\n",
      "C:\\Users\\田齐\\AppData\\Local\\Temp\\ipykernel_29884\\277884361.py:78: FutureWarning: Setting an item of incompatible dtype is deprecated and will raise an error in a future version of pandas. Value '0.5996978713664454' has dtype incompatible with int64, please explicitly cast to a compatible dtype first.\n",
      "  result1.loc[index1,df_temp.loc[index,'作物名称']] = best_sol\n",
      "C:\\Users\\田齐\\AppData\\Local\\Temp\\ipykernel_29884\\277884361.py:78: FutureWarning: Setting an item of incompatible dtype is deprecated and will raise an error in a future version of pandas. Value '0.5998535133897916' has dtype incompatible with int64, please explicitly cast to a compatible dtype first.\n",
      "  result1.loc[index1,df_temp.loc[index,'作物名称']] = best_sol\n"
     ]
    },
    {
     "name": "stdout",
     "output_type": "stream",
     "text": [
      "豇豆 种植量: x = 0.5999725337605859 , 利润 = 279315.34837048873\n",
      "芸豆 种植量: x = 0.5996978713664454 , 利润 = 50331.23138421031\n",
      "黄心菜 种植量: x = 0.5998535133897916 , 利润 = 21865.47136191158\n",
      "芸豆 种植量: x = 0.599981689173724 , 利润 = 36905.01243114495\n",
      "芹菜 种植量: x = 0.5995788509956511 , 利润 = 17105.559586339987\n",
      "包菜 种植量: x = 0.5975188830395971 , 利润 = 29906.414539788497\n",
      "包菜 种植量: x = 0.6 , 利润 = 34238.26410898117\n",
      "芹菜 种植量: x = 0.5999908445868619 , 利润 = 20317.451791902662\n"
     ]
    },
    {
     "name": "stderr",
     "output_type": "stream",
     "text": [
      "C:\\Users\\田齐\\AppData\\Local\\Temp\\ipykernel_29884\\277884361.py:78: FutureWarning: Setting an item of incompatible dtype is deprecated and will raise an error in a future version of pandas. Value '0.5995788509956511' has dtype incompatible with int64, please explicitly cast to a compatible dtype first.\n",
      "  result1.loc[index1,df_temp.loc[index,'作物名称']] = best_sol\n",
      "C:\\Users\\田齐\\AppData\\Local\\Temp\\ipykernel_29884\\277884361.py:78: FutureWarning: Setting an item of incompatible dtype is deprecated and will raise an error in a future version of pandas. Value '0.5975188830395971' has dtype incompatible with int64, please explicitly cast to a compatible dtype first.\n",
      "  result1.loc[index1,df_temp.loc[index,'作物名称']] = best_sol\n"
     ]
    },
    {
     "name": "stdout",
     "output_type": "stream",
     "text": [
      "黄心菜 种植量: x = 0.5998809796292057 , 利润 = 17273.915520863127\n",
      "芸豆 种植量: x = 0.5999267566948958 , 利润 = 39212.71665575809\n",
      "刀豆 种植量: x = 0.5986907759212634 , 利润 = 156177.2562663718\n",
      "芹菜 种植量: x = 0.5996795605401694 , 利润 = 18513.147152913756\n"
     ]
    },
    {
     "name": "stderr",
     "output_type": "stream",
     "text": [
      "C:\\Users\\田齐\\AppData\\Local\\Temp\\ipykernel_29884\\277884361.py:78: FutureWarning: Setting an item of incompatible dtype is deprecated and will raise an error in a future version of pandas. Value '0.5986907759212634' has dtype incompatible with int64, please explicitly cast to a compatible dtype first.\n",
      "  result1.loc[index1,df_temp.loc[index,'作物名称']] = best_sol\n"
     ]
    },
    {
     "name": "stdout",
     "output_type": "stream",
     "text": [
      "刀豆 种植量: x = 0.5971068894483863 , 利润 = 150080.91272874258\n",
      "黄心菜 种植量: x = 0.5999359121080339 , 利润 = 10303.077937280143\n",
      "刀豆 种植量: x = 0.5995422293430991 , 利润 = 215074.6152248734\n",
      "大白菜 种植量: x = 14.992675669489586 , 利润 = 440037.22301030235\n",
      "该农作物 2028 年第 2 季 不能种在 D1\n",
      "红萝卜 种植量: x = 14.998168917372396 , 利润 = 175918.12894985406\n",
      "大白菜 种植量: x = 13.995300221255818 , 利润 = 406208.7352866363\n",
      "该农作物 2028 年第 2 季 不能种在 D3\n",
      "白萝卜 种植量: x = 13.985900663767453 , 利润 = 305542.15030957153\n"
     ]
    },
    {
     "name": "stderr",
     "output_type": "stream",
     "text": [
      "C:\\Users\\田齐\\AppData\\Local\\Temp\\ipykernel_29884\\277884361.py:85: FutureWarning: Setting an item of incompatible dtype is deprecated and will raise an error in a future version of pandas. Value '14.998168917372396' has dtype incompatible with int64, please explicitly cast to a compatible dtype first.\n",
      "  result2.loc[index1-26,df_temp.loc[index,'作物名称']] = best_sol\n",
      "C:\\Users\\田齐\\AppData\\Local\\Temp\\ipykernel_29884\\277884361.py:85: FutureWarning: Setting an item of incompatible dtype is deprecated and will raise an error in a future version of pandas. Value '13.985900663767453' has dtype incompatible with int64, please explicitly cast to a compatible dtype first.\n",
      "  result2.loc[index1-26,df_temp.loc[index,'作物名称']] = best_sol\n",
      "C:\\Users\\田齐\\AppData\\Local\\Temp\\ipykernel_29884\\277884361.py:85: FutureWarning: Setting an item of incompatible dtype is deprecated and will raise an error in a future version of pandas. Value '11.992675669489586' has dtype incompatible with int64, please explicitly cast to a compatible dtype first.\n",
      "  result2.loc[index1-26,df_temp.loc[index,'作物名称']] = best_sol\n"
     ]
    },
    {
     "name": "stdout",
     "output_type": "stream",
     "text": [
      "大白菜 种植量: x = 11.992675669489586 , 利润 = 325610.3804553093\n",
      "红萝卜 种植量: x = 10.0 , 利润 = 103634.92511065776\n",
      "大白菜 种植量: x = 9.999694819562066 , 利润 = 475069.4212489347\n",
      "大白菜 种植量: x = 5.9997253376058595 , 利润 = 384623.3999727347\n",
      "榆黄菇 种植量: x = 0.5999908445868619 , 利润 = 410545.64627174207\n",
      "包菜 种植量: x = 0.5987182421606775 , 利润 = 31753.871629662804\n",
      "生菜 种植量: x = 0.5995971618219272 , 利润 = 18706.38249081225\n"
     ]
    },
    {
     "name": "stderr",
     "output_type": "stream",
     "text": [
      "C:\\Users\\田齐\\AppData\\Local\\Temp\\ipykernel_29884\\277884361.py:85: FutureWarning: Setting an item of incompatible dtype is deprecated and will raise an error in a future version of pandas. Value '0.5999908445868619' has dtype incompatible with int64, please explicitly cast to a compatible dtype first.\n",
      "  result2.loc[index1-26,df_temp.loc[index,'作物名称']] = best_sol\n",
      "C:\\Users\\田齐\\AppData\\Local\\Temp\\ipykernel_29884\\277884361.py:85: FutureWarning: Setting an item of incompatible dtype is deprecated and will raise an error in a future version of pandas. Value '0.5987182421606775' has dtype incompatible with int64, please explicitly cast to a compatible dtype first.\n",
      "  result2.loc[index1-26,df_temp.loc[index,'作物名称']] = best_sol\n",
      "C:\\Users\\田齐\\AppData\\Local\\Temp\\ipykernel_29884\\277884361.py:85: FutureWarning: Setting an item of incompatible dtype is deprecated and will raise an error in a future version of pandas. Value '0.5995971618219272' has dtype incompatible with int64, please explicitly cast to a compatible dtype first.\n",
      "  result2.loc[index1-26,df_temp.loc[index,'作物名称']] = best_sol\n"
     ]
    },
    {
     "name": "stdout",
     "output_type": "stream",
     "text": [
      "生菜 种植量: x = 0.5999908445868619 , 利润 = 12467.175186094042\n",
      "白灵菇 种植量: x = 0.596969558251316 , 利润 = 172312.55849672947\n",
      "白灵菇 种植量: x = 0.5999542229343099 , 利润 = 255692.455148998\n",
      "该农作物 2028 年第 2 季 不能种在 E10\n",
      "白灵菇 种植量: x = 0.5999084458686198 , 利润 = 217117.08321178606\n"
     ]
    },
    {
     "name": "stderr",
     "output_type": "stream",
     "text": [
      "C:\\Users\\田齐\\AppData\\Local\\Temp\\ipykernel_29884\\277884361.py:85: FutureWarning: Setting an item of incompatible dtype is deprecated and will raise an error in a future version of pandas. Value '0.596969558251316' has dtype incompatible with int64, please explicitly cast to a compatible dtype first.\n",
      "  result2.loc[index1-26,df_temp.loc[index,'作物名称']] = best_sol\n"
     ]
    },
    {
     "name": "stdout",
     "output_type": "stream",
     "text": [
      "榆黄菇 种植量: x = 0.5997985809109636 , 利润 = 410661.6628100005\n",
      "羊肚菌 种植量: x = 0.5920347905699245 , 利润 = 277524.44169042516\n",
      "榆黄菇 种植量: x = 0.5998718242160678 , 利润 = 426504.07987971953\n"
     ]
    },
    {
     "name": "stderr",
     "output_type": "stream",
     "text": [
      "C:\\Users\\田齐\\AppData\\Local\\Temp\\ipykernel_29884\\277884361.py:85: FutureWarning: Setting an item of incompatible dtype is deprecated and will raise an error in a future version of pandas. Value '0.5920347905699245' has dtype incompatible with int64, please explicitly cast to a compatible dtype first.\n",
      "  result2.loc[index1-26,df_temp.loc[index,'作物名称']] = best_sol\n"
     ]
    },
    {
     "name": "stdout",
     "output_type": "stream",
     "text": [
      "红豆 种植量: x = 85.97637903410391 , 利润 = 230283.13193835094\n",
      "黑豆 种植量: x = 79.99633783474479 , 利润 = 314764.7144222964\n",
      "爬豆 种植量: x = 71.90881208514534 , 利润 = 139786.75857803685\n",
      "黑豆 种植量: x = 67.96783398184176 , 利润 = 306887.03420977294\n"
     ]
    },
    {
     "name": "stderr",
     "output_type": "stream",
     "text": [
      "C:\\Users\\田齐\\AppData\\Local\\Temp\\ipykernel_29884\\277884361.py:78: FutureWarning: Setting an item of incompatible dtype is deprecated and will raise an error in a future version of pandas. Value '85.97637903410391' has dtype incompatible with int64, please explicitly cast to a compatible dtype first.\n",
      "  result1.loc[index1,df_temp.loc[index,'作物名称']] = best_sol\n",
      "C:\\Users\\田齐\\AppData\\Local\\Temp\\ipykernel_29884\\277884361.py:78: FutureWarning: Setting an item of incompatible dtype is deprecated and will raise an error in a future version of pandas. Value '79.99633783474479' has dtype incompatible with int64, please explicitly cast to a compatible dtype first.\n",
      "  result1.loc[index1,df_temp.loc[index,'作物名称']] = best_sol\n",
      "C:\\Users\\田齐\\AppData\\Local\\Temp\\ipykernel_29884\\277884361.py:78: FutureWarning: Setting an item of incompatible dtype is deprecated and will raise an error in a future version of pandas. Value '71.90881208514534' has dtype incompatible with int64, please explicitly cast to a compatible dtype first.\n",
      "  result1.loc[index1,df_temp.loc[index,'作物名称']] = best_sol\n"
     ]
    },
    {
     "name": "stdout",
     "output_type": "stream",
     "text": [
      "红豆 种植量: x = 59.95422293430991 , 利润 = 306834.48509862024\n",
      "黑豆 种植量: x = 59.998168917372396 , 利润 = 275654.8800690661\n",
      "黍子 种植量: x = 54.99664301518273 , 利润 = 163058.8360144969\n",
      "该农作物 2029 年第 1 季 不能种在 A6\n",
      "南瓜 种植量: x = 54.83299000534066 , 利润 = 100717.54102269148\n"
     ]
    },
    {
     "name": "stderr",
     "output_type": "stream",
     "text": [
      "C:\\Users\\田齐\\AppData\\Local\\Temp\\ipykernel_29884\\277884361.py:78: FutureWarning: Setting an item of incompatible dtype is deprecated and will raise an error in a future version of pandas. Value '54.83299000534066' has dtype incompatible with int64, please explicitly cast to a compatible dtype first.\n",
      "  result1.loc[index1,df_temp.loc[index,'作物名称']] = best_sol\n"
     ]
    },
    {
     "name": "stdout",
     "output_type": "stream",
     "text": [
      "红豆 种植量: x = 54.95635919737545 , 利润 = 240961.4819826835\n",
      "爬豆 种植量: x = 49.99008163576715 , 利润 = 74692.65951957689\n",
      "爬豆 种植量: x = 45.96420233463035 , 利润 = 121157.76745174063\n",
      "绿豆 种植量: x = 44.9986266880293 , 利润 = 183545.20622737426\n"
     ]
    },
    {
     "name": "stderr",
     "output_type": "stream",
     "text": [
      "C:\\Users\\田齐\\AppData\\Local\\Temp\\ipykernel_29884\\277884361.py:78: FutureWarning: Setting an item of incompatible dtype is deprecated and will raise an error in a future version of pandas. Value '44.9986266880293' has dtype incompatible with int64, please explicitly cast to a compatible dtype first.\n",
      "  result1.loc[index1,df_temp.loc[index,'作物名称']] = best_sol\n",
      "C:\\Users\\田齐\\AppData\\Local\\Temp\\ipykernel_29884\\277884361.py:78: FutureWarning: Setting an item of incompatible dtype is deprecated and will raise an error in a future version of pandas. Value '43.92480354009308' has dtype incompatible with int64, please explicitly cast to a compatible dtype first.\n",
      "  result1.loc[index1,df_temp.loc[index,'作物名称']] = best_sol\n"
     ]
    },
    {
     "name": "stdout",
     "output_type": "stream",
     "text": [
      "红薯 种植量: x = 43.92480354009308 , 利润 = 59000.196483366075\n",
      "红薯 种植量: x = 39.978637369344625 , 利润 = 234422.50282794313\n",
      "荞麦 种植量: x = 34.95780880445564 , 利润 = 117710.71999582942\n",
      "荞麦 种植量: x = 34.96528572518501 , 利润 = 108523.59650266072\n"
     ]
    },
    {
     "name": "stderr",
     "output_type": "stream",
     "text": [
      "C:\\Users\\田齐\\AppData\\Local\\Temp\\ipykernel_29884\\277884361.py:78: FutureWarning: Setting an item of incompatible dtype is deprecated and will raise an error in a future version of pandas. Value '34.95780880445564' has dtype incompatible with int64, please explicitly cast to a compatible dtype first.\n",
      "  result1.loc[index1,df_temp.loc[index,'作物名称']] = best_sol\n"
     ]
    },
    {
     "name": "stdout",
     "output_type": "stream",
     "text": [
      "荞麦 种植量: x = 27.972228580148013 , 利润 = 94396.8698770859\n",
      "红薯 种植量: x = 26.983520256351568 , 利润 = 177341.19750697096\n",
      "南瓜 种植量: x = 24.955367360952163 , 利润 = 30674.95248556553\n",
      "黍子 种植量: x = 24.96032654306859 , 利润 = 148242.28947821204\n"
     ]
    },
    {
     "name": "stderr",
     "output_type": "stream",
     "text": [
      "C:\\Users\\田齐\\AppData\\Local\\Temp\\ipykernel_29884\\277884361.py:78: FutureWarning: Setting an item of incompatible dtype is deprecated and will raise an error in a future version of pandas. Value '24.96032654306859' has dtype incompatible with int64, please explicitly cast to a compatible dtype first.\n",
      "  result1.loc[index1,df_temp.loc[index,'作物名称']] = best_sol\n",
      "C:\\Users\\田齐\\AppData\\Local\\Temp\\ipykernel_29884\\277884361.py:78: FutureWarning: Setting an item of incompatible dtype is deprecated and will raise an error in a future version of pandas. Value '21.99127183947509' has dtype incompatible with int64, please explicitly cast to a compatible dtype first.\n",
      "  result1.loc[index1,df_temp.loc[index,'作物名称']] = best_sol\n",
      "C:\\Users\\田齐\\AppData\\Local\\Temp\\ipykernel_29884\\277884361.py:78: FutureWarning: Setting an item of incompatible dtype is deprecated and will raise an error in a future version of pandas. Value '19.908140688181888' has dtype incompatible with int64, please explicitly cast to a compatible dtype first.\n",
      "  result1.loc[index1,df_temp.loc[index,'作物名称']] = best_sol\n"
     ]
    },
    {
     "name": "stdout",
     "output_type": "stream",
     "text": [
      "茄子 种植量: x = 21.99127183947509 , 利润 = 705809.5784700045\n",
      "南瓜 种植量: x = 19.993286030365454 , 利润 = 59932.18944815337\n",
      "玉米 种植量: x = 19.908140688181888 , 利润 = 557216.0782806764\n",
      "黄瓜 种植量: x = 20.0 , 利润 = 804900.6012024503\n",
      "高粱 种植量: x = 17.95907530327306 , 利润 = 188851.51816580707\n",
      "玉米 种植量: x = 14.997711146715496 , 利润 = 350600.4163172035\n",
      "绿豆 种植量: x = 14.995880064087892 , 利润 = 150081.5665375859\n",
      "刀豆 种植量: x = 14.999084458686198 , 利润 = 327767.8483499357\n"
     ]
    },
    {
     "name": "stderr",
     "output_type": "stream",
     "text": [
      "C:\\Users\\田齐\\AppData\\Local\\Temp\\ipykernel_29884\\277884361.py:78: FutureWarning: Setting an item of incompatible dtype is deprecated and will raise an error in a future version of pandas. Value '17.95907530327306' has dtype incompatible with int64, please explicitly cast to a compatible dtype first.\n",
      "  result1.loc[index1,df_temp.loc[index,'作物名称']] = best_sol\n",
      "C:\\Users\\田齐\\AppData\\Local\\Temp\\ipykernel_29884\\277884361.py:78: FutureWarning: Setting an item of incompatible dtype is deprecated and will raise an error in a future version of pandas. Value '14.999084458686198' has dtype incompatible with int64, please explicitly cast to a compatible dtype first.\n",
      "  result1.loc[index1,df_temp.loc[index,'作物名称']] = best_sol\n"
     ]
    },
    {
     "name": "stdout",
     "output_type": "stream",
     "text": [
      "芸豆 种植量: x = 13.995941100175479 , 利润 = 252213.69552496614\n",
      "豇豆 种植量: x = 11.99981689173724 , 利润 = 558266.2760888352\n",
      "刀豆 种植量: x = 9.965667200732433 , 利润 = 134827.71697915252\n",
      "豇豆 种植量: x = 9.999389639124132 , 利润 = 526389.2285610967\n"
     ]
    },
    {
     "name": "stderr",
     "output_type": "stream",
     "text": [
      "C:\\Users\\田齐\\AppData\\Local\\Temp\\ipykernel_29884\\277884361.py:78: FutureWarning: Setting an item of incompatible dtype is deprecated and will raise an error in a future version of pandas. Value '13.995941100175479' has dtype incompatible with int64, please explicitly cast to a compatible dtype first.\n",
      "  result1.loc[index1,df_temp.loc[index,'作物名称']] = best_sol\n",
      "C:\\Users\\田齐\\AppData\\Local\\Temp\\ipykernel_29884\\277884361.py:78: FutureWarning: Setting an item of incompatible dtype is deprecated and will raise an error in a future version of pandas. Value '11.99981689173724' has dtype incompatible with int64, please explicitly cast to a compatible dtype first.\n",
      "  result1.loc[index1,df_temp.loc[index,'作物名称']] = best_sol\n"
     ]
    },
    {
     "name": "stdout",
     "output_type": "stream",
     "text": [
      "黄瓜 种植量: x = 6.0 , 利润 = 414074.71353021084\n",
      "茄子 种植量: x = 0.5987273975738155 , 利润 = 303019.08369119547\n",
      "黄瓜 种植量: x = 0.5988464179446097 , 利润 = 171014.8106232818\n",
      "该农作物 2029 年第 1 季 不能种在 F2\n",
      "黄瓜 种植量: x = 0.5996429388876173 , 利润 = 106315.5545737342\n",
      "该农作物 2029 年第 1 季 不能种在 F2\n",
      "空心菜 种植量: x = 0.5996612497138933 , 利润 = 40953.27294752699\n",
      "黄瓜 种植量: x = 0.5999359121080339 , 利润 = 123029.2723443899\n",
      "茄子 种植量: x = 0.5995239185168231 , 利润 = 323088.1773505656\n",
      "空心菜 种植量: x = 0.5998901350423438 , 利润 = 40958.626695901454\n"
     ]
    },
    {
     "name": "stderr",
     "output_type": "stream",
     "text": [
      "C:\\Users\\田齐\\AppData\\Local\\Temp\\ipykernel_29884\\277884361.py:78: FutureWarning: Setting an item of incompatible dtype is deprecated and will raise an error in a future version of pandas. Value '0.5996612497138933' has dtype incompatible with int64, please explicitly cast to a compatible dtype first.\n",
      "  result1.loc[index1,df_temp.loc[index,'作物名称']] = best_sol\n",
      "C:\\Users\\田齐\\AppData\\Local\\Temp\\ipykernel_29884\\277884361.py:78: FutureWarning: Setting an item of incompatible dtype is deprecated and will raise an error in a future version of pandas. Value '0.5999359121080339' has dtype incompatible with int64, please explicitly cast to a compatible dtype first.\n",
      "  result1.loc[index1,df_temp.loc[index,'作物名称']] = best_sol\n"
     ]
    },
    {
     "name": "stdout",
     "output_type": "stream",
     "text": [
      "芸豆 种植量: x = 0.5998168917372396 , 利润 = 38616.87449581549\n",
      "包菜 种植量: x = 0.5998352025635156 , 利润 = 23554.040461798806\n",
      "油麦菜 种植量: x = 0.5999450675211718 , 利润 = 24502.804332589174\n",
      "空心菜 种植量: x = 0.6 , 利润 = 40052.629693526\n"
     ]
    },
    {
     "name": "stderr",
     "output_type": "stream",
     "text": [
      "C:\\Users\\田齐\\AppData\\Local\\Temp\\ipykernel_29884\\277884361.py:78: FutureWarning: Setting an item of incompatible dtype is deprecated and will raise an error in a future version of pandas. Value '0.5998352025635156' has dtype incompatible with int64, please explicitly cast to a compatible dtype first.\n",
      "  result1.loc[index1,df_temp.loc[index,'作物名称']] = best_sol\n",
      "C:\\Users\\田齐\\AppData\\Local\\Temp\\ipykernel_29884\\277884361.py:78: FutureWarning: Setting an item of incompatible dtype is deprecated and will raise an error in a future version of pandas. Value '0.5999450675211718' has dtype incompatible with int64, please explicitly cast to a compatible dtype first.\n",
      "  result1.loc[index1,df_temp.loc[index,'作物名称']] = best_sol\n"
     ]
    },
    {
     "name": "stdout",
     "output_type": "stream",
     "text": [
      "豇豆 种植量: x = 0.5896818493934538 , 利润 = 328045.29897693614\n",
      "芹菜 种植量: x = 0.599981689173724 , 利润 = 21529.54644839588\n",
      "黄心菜 种植量: x = 0.5996795605401694 , 利润 = 19581.43047835221\n",
      "芹菜 种植量: x = 0.6 , 利润 = 21611.140770102345\n"
     ]
    },
    {
     "name": "stderr",
     "output_type": "stream",
     "text": [
      "C:\\Users\\田齐\\AppData\\Local\\Temp\\ipykernel_29884\\277884361.py:78: FutureWarning: Setting an item of incompatible dtype is deprecated and will raise an error in a future version of pandas. Value '0.599981689173724' has dtype incompatible with int64, please explicitly cast to a compatible dtype first.\n",
      "  result1.loc[index1,df_temp.loc[index,'作物名称']] = best_sol\n",
      "C:\\Users\\田齐\\AppData\\Local\\Temp\\ipykernel_29884\\277884361.py:78: FutureWarning: Setting an item of incompatible dtype is deprecated and will raise an error in a future version of pandas. Value '0.5996795605401694' has dtype incompatible with int64, please explicitly cast to a compatible dtype first.\n",
      "  result1.loc[index1,df_temp.loc[index,'作物名称']] = best_sol\n"
     ]
    },
    {
     "name": "stdout",
     "output_type": "stream",
     "text": [
      "包菜 种植量: x = 0.5998901350423438 , 利润 = 27548.207053786762\n",
      "芹菜 种植量: x = 0.5999084458686198 , 利润 = 14180.837982584777\n",
      "芸豆 种植量: x = 0.6 , 利润 = 31399.950766096754\n",
      "包菜 种植量: x = 0.5973815518425268 , 利润 = 40932.298557371236\n",
      "生菜 种植量: x = 0.6 , 利润 = 20311.980894298544\n",
      "刀豆 种植量: x = 0.5987823300526436 , 利润 = 116432.96501475203\n",
      "红萝卜 种植量: x = 21.99395742732891 , 利润 = 339736.43486563466\n",
      "大白菜 种植量: x = 19.99847409781033 , 利润 = 646836.2070883862\n"
     ]
    },
    {
     "name": "stderr",
     "output_type": "stream",
     "text": [
      "C:\\Users\\田齐\\AppData\\Local\\Temp\\ipykernel_29884\\277884361.py:78: FutureWarning: Setting an item of incompatible dtype is deprecated and will raise an error in a future version of pandas. Value '0.6' has dtype incompatible with int64, please explicitly cast to a compatible dtype first.\n",
      "  result1.loc[index1,df_temp.loc[index,'作物名称']] = best_sol\n",
      "C:\\Users\\田齐\\AppData\\Local\\Temp\\ipykernel_29884\\277884361.py:85: FutureWarning: Setting an item of incompatible dtype is deprecated and will raise an error in a future version of pandas. Value '21.99395742732891' has dtype incompatible with int64, please explicitly cast to a compatible dtype first.\n",
      "  result2.loc[index1-26,df_temp.loc[index,'作物名称']] = best_sol\n",
      "C:\\Users\\田齐\\AppData\\Local\\Temp\\ipykernel_29884\\277884361.py:85: FutureWarning: Setting an item of incompatible dtype is deprecated and will raise an error in a future version of pandas. Value '19.99847409781033' has dtype incompatible with int64, please explicitly cast to a compatible dtype first.\n",
      "  result2.loc[index1-26,df_temp.loc[index,'作物名称']] = best_sol\n"
     ]
    },
    {
     "name": "stdout",
     "output_type": "stream",
     "text": [
      "大白菜 种植量: x = 5.9817807278553445 , 利润 = 355427.05042136926\n",
      "该农作物 2029 年第 2 季 不能种在 D4\n",
      "白萝卜 种植量: x = 5.996429388876173 , 利润 = 244963.9376343966\n",
      "榆黄菇 种植量: x = 0.5998077363241016 , 利润 = 466670.6939572578\n",
      "黄心菜 种植量: x = 0.5994140535591669 , 利润 = 21788.467549937486\n"
     ]
    },
    {
     "name": "stderr",
     "output_type": "stream",
     "text": [
      "C:\\Users\\田齐\\AppData\\Local\\Temp\\ipykernel_29884\\277884361.py:85: FutureWarning: Setting an item of incompatible dtype is deprecated and will raise an error in a future version of pandas. Value '5.996429388876173' has dtype incompatible with int64, please explicitly cast to a compatible dtype first.\n",
      "  result2.loc[index1-26,df_temp.loc[index,'作物名称']] = best_sol\n",
      "C:\\Users\\田齐\\AppData\\Local\\Temp\\ipykernel_29884\\277884361.py:85: FutureWarning: Setting an item of incompatible dtype is deprecated and will raise an error in a future version of pandas. Value '0.5998077363241016' has dtype incompatible with int64, please explicitly cast to a compatible dtype first.\n",
      "  result2.loc[index1-26,df_temp.loc[index,'作物名称']] = best_sol\n",
      "C:\\Users\\田齐\\AppData\\Local\\Temp\\ipykernel_29884\\277884361.py:85: FutureWarning: Setting an item of incompatible dtype is deprecated and will raise an error in a future version of pandas. Value '0.5994140535591669' has dtype incompatible with int64, please explicitly cast to a compatible dtype first.\n",
      "  result2.loc[index1-26,df_temp.loc[index,'作物名称']] = best_sol\n"
     ]
    },
    {
     "name": "stdout",
     "output_type": "stream",
     "text": [
      "黄心菜 种植量: x = 0.599963378347448 , 利润 = 19433.08636776756\n",
      "生菜 种植量: x = 0.6 , 利润 = 23154.020638624595\n",
      "该农作物 2029 年第 2 季 不能种在 F2\n",
      "油麦菜 种植量: x = 0.5999450675211718 , 利润 = 38902.958824084024\n"
     ]
    },
    {
     "name": "stderr",
     "output_type": "stream",
     "text": [
      "C:\\Users\\田齐\\AppData\\Local\\Temp\\ipykernel_29884\\277884361.py:85: FutureWarning: Setting an item of incompatible dtype is deprecated and will raise an error in a future version of pandas. Value '0.5999450675211718' has dtype incompatible with int64, please explicitly cast to a compatible dtype first.\n",
      "  result2.loc[index1-26,df_temp.loc[index,'作物名称']] = best_sol\n",
      "C:\\Users\\田齐\\AppData\\Local\\Temp\\ipykernel_29884\\277884361.py:85: FutureWarning: Setting an item of incompatible dtype is deprecated and will raise an error in a future version of pandas. Value '0.59902952620737' has dtype incompatible with int64, please explicitly cast to a compatible dtype first.\n",
      "  result2.loc[index1-26,df_temp.loc[index,'作物名称']] = best_sol\n",
      "C:\\Users\\田齐\\AppData\\Local\\Temp\\ipykernel_29884\\277884361.py:85: FutureWarning: Setting an item of incompatible dtype is deprecated and will raise an error in a future version of pandas. Value '0.5981597619592584' has dtype incompatible with int64, please explicitly cast to a compatible dtype first.\n",
      "  result2.loc[index1-26,df_temp.loc[index,'作物名称']] = best_sol\n"
     ]
    },
    {
     "name": "stdout",
     "output_type": "stream",
     "text": [
      "白灵菇 种植量: x = 0.59902952620737 , 利润 = 145324.09568240447\n",
      "白灵菇 种植量: x = 0.5998809796292057 , 利润 = 246367.11316667823\n",
      "该农作物 2029 年第 2 季 不能种在 E12\n",
      "香菇 种植量: x = 0.5981597619592584 , 利润 = 87836.56752622782\n",
      "榆黄菇 种植量: x = 0.5986541542687114 , 利润 = 415908.91186937917\n",
      "榆黄菇 种植量: x = 0.5999908445868619 , 利润 = 325526.413488496\n",
      "该农作物 2029 年第 2 季 不能种在 E8\n",
      "榆黄菇 种植量: x = 0.5998718242160678 , 利润 = 332280.4775783713\n",
      "白灵菇 种植量: x = 0.599981689173724 , 利润 = 203250.15757157688\n",
      "白灵菇 种植量: x = 0.5999267566948958 , 利润 = 214148.7618097507\n",
      "羊肚菌 种植量: x = 0.5999908445868619 , 利润 = 195260.1852445377\n",
      "红豆 种植量: x = 86.0 , 利润 = 399610.38486673374\n",
      "该农作物 2030 年第 1 季 不能种在 B6\n"
     ]
    },
    {
     "name": "stderr",
     "output_type": "stream",
     "text": [
      "C:\\Users\\田齐\\AppData\\Local\\Temp\\ipykernel_29884\\277884361.py:85: FutureWarning: Setting an item of incompatible dtype is deprecated and will raise an error in a future version of pandas. Value '0.5999908445868619' has dtype incompatible with int64, please explicitly cast to a compatible dtype first.\n",
      "  result2.loc[index1-26,df_temp.loc[index,'作物名称']] = best_sol\n"
     ]
    },
    {
     "name": "stdout",
     "output_type": "stream",
     "text": [
      "玉米 种植量: x = 85.96456855115588 , 利润 = 702506.5815468197\n",
      "红薯 种植量: x = 79.99877927824826 , 利润 = 441285.3742158366\n",
      "南瓜 种植量: x = 71.94946211947814 , 利润 = 206451.19706887496\n",
      "荞麦 种植量: x = 67.93878080415045 , 利润 = 123191.01288951498\n"
     ]
    },
    {
     "name": "stderr",
     "output_type": "stream",
     "text": [
      "C:\\Users\\田齐\\AppData\\Local\\Temp\\ipykernel_29884\\277884361.py:78: FutureWarning: Setting an item of incompatible dtype is deprecated and will raise an error in a future version of pandas. Value '85.96456855115588' has dtype incompatible with int64, please explicitly cast to a compatible dtype first.\n",
      "  result1.loc[index1,df_temp.loc[index,'作物名称']] = best_sol\n",
      "C:\\Users\\田齐\\AppData\\Local\\Temp\\ipykernel_29884\\277884361.py:78: FutureWarning: Setting an item of incompatible dtype is deprecated and will raise an error in a future version of pandas. Value '79.99877927824826' has dtype incompatible with int64, please explicitly cast to a compatible dtype first.\n",
      "  result1.loc[index1,df_temp.loc[index,'作物名称']] = best_sol\n",
      "C:\\Users\\田齐\\AppData\\Local\\Temp\\ipykernel_29884\\277884361.py:78: FutureWarning: Setting an item of incompatible dtype is deprecated and will raise an error in a future version of pandas. Value '71.94946211947814' has dtype incompatible with int64, please explicitly cast to a compatible dtype first.\n",
      "  result1.loc[index1,df_temp.loc[index,'作物名称']] = best_sol\n",
      "C:\\Users\\田齐\\AppData\\Local\\Temp\\ipykernel_29884\\277884361.py:78: FutureWarning: Setting an item of incompatible dtype is deprecated and will raise an error in a future version of pandas. Value '67.93878080415045' has dtype incompatible with int64, please explicitly cast to a compatible dtype first.\n",
      "  result1.loc[index1,df_temp.loc[index,'作物名称']] = best_sol\n"
     ]
    },
    {
     "name": "stdout",
     "output_type": "stream",
     "text": [
      "红薯 种植量: x = 59.99542229343099 , 利润 = 339314.5452415787\n",
      "红薯 种植量: x = 59.97985809109636 , 利润 = 122729.546432212\n",
      "绿豆 种植量: x = 54.92530708781567 , 利润 = 273366.0552997429\n",
      "荞麦 种植量: x = 54.993286030365454 , 利润 = 170423.60234697087\n"
     ]
    },
    {
     "name": "stderr",
     "output_type": "stream",
     "text": [
      "C:\\Users\\田齐\\AppData\\Local\\Temp\\ipykernel_29884\\277884361.py:78: FutureWarning: Setting an item of incompatible dtype is deprecated and will raise an error in a future version of pandas. Value '54.92530708781567' has dtype incompatible with int64, please explicitly cast to a compatible dtype first.\n",
      "  result1.loc[index1,df_temp.loc[index,'作物名称']] = best_sol\n",
      "C:\\Users\\田齐\\AppData\\Local\\Temp\\ipykernel_29884\\277884361.py:78: FutureWarning: Setting an item of incompatible dtype is deprecated and will raise an error in a future version of pandas. Value '54.953002212558175' has dtype incompatible with int64, please explicitly cast to a compatible dtype first.\n",
      "  result1.loc[index1,df_temp.loc[index,'作物名称']] = best_sol\n"
     ]
    },
    {
     "name": "stdout",
     "output_type": "stream",
     "text": [
      "爬豆 种植量: x = 54.953002212558175 , 利润 = 127475.88349456954\n",
      "黍子 种植量: x = 49.99160753795682 , 利润 = 217643.90044391967\n",
      "荞麦 种植量: x = 45.99298084992752 , 利润 = 181185.34372031223\n"
     ]
    },
    {
     "name": "stderr",
     "output_type": "stream",
     "text": [
      "C:\\Users\\田齐\\AppData\\Local\\Temp\\ipykernel_29884\\277884361.py:78: FutureWarning: Setting an item of incompatible dtype is deprecated and will raise an error in a future version of pandas. Value '49.99160753795682' has dtype incompatible with int64, please explicitly cast to a compatible dtype first.\n",
      "  result1.loc[index1,df_temp.loc[index,'作物名称']] = best_sol\n",
      "C:\\Users\\田齐\\AppData\\Local\\Temp\\ipykernel_29884\\277884361.py:78: FutureWarning: Setting an item of incompatible dtype is deprecated and will raise an error in a future version of pandas. Value '44.997253376058595' has dtype incompatible with int64, please explicitly cast to a compatible dtype first.\n",
      "  result1.loc[index1,df_temp.loc[index,'作物名称']] = best_sol\n"
     ]
    },
    {
     "name": "stdout",
     "output_type": "stream",
     "text": [
      "高粱 种植量: x = 44.997253376058595 , 利润 = 250477.33590252444\n",
      "黑豆 种植量: x = 44.0 , 利润 = 258246.41241515125\n",
      "黍子 种植量: x = 39.99694819562066 , 利润 = 172432.510728018\n",
      "黍子 种植量: x = 34.977035172045476 , 利润 = 143502.66570540704\n",
      "黑豆 种植量: x = 34.99946593423361 , 利润 = 200892.6776016659\n",
      "玉米 种植量: x = 27.97949187457084 , 利润 = 192554.1506522488\n"
     ]
    },
    {
     "name": "stderr",
     "output_type": "stream",
     "text": [
      "C:\\Users\\田齐\\AppData\\Local\\Temp\\ipykernel_29884\\277884361.py:78: FutureWarning: Setting an item of incompatible dtype is deprecated and will raise an error in a future version of pandas. Value '34.99946593423361' has dtype incompatible with int64, please explicitly cast to a compatible dtype first.\n",
      "  result1.loc[index1,df_temp.loc[index,'作物名称']] = best_sol\n"
     ]
    },
    {
     "name": "stdout",
     "output_type": "stream",
     "text": [
      "南瓜 种植量: x = 25.0 , 利润 = 57995.72149210215\n",
      "该农作物 2030 年第 1 季 不能种在 B10\n",
      "高粱 种植量: x = 24.998092622262913 , 利润 = 153050.92247571878\n",
      "黑豆 种植量: x = 24.98970016021973 , 利润 = 137872.29268996418\n",
      "黄瓜 种植量: x = 21.998992904554818 , 利润 = 1866329.2796123512\n",
      "南瓜 种植量: x = 19.975585564965286 , 利润 = 39623.011288917536\n",
      "该农作物 2030 年第 1 季 不能种在 B14\n",
      "高粱 种植量: x = 19.998779278248264 , 利润 = 167900.16983854544\n"
     ]
    },
    {
     "name": "stderr",
     "output_type": "stream",
     "text": [
      "C:\\Users\\田齐\\AppData\\Local\\Temp\\ipykernel_29884\\277884361.py:78: FutureWarning: Setting an item of incompatible dtype is deprecated and will raise an error in a future version of pandas. Value '21.998992904554818' has dtype incompatible with int64, please explicitly cast to a compatible dtype first.\n",
      "  result1.loc[index1,df_temp.loc[index,'作物名称']] = best_sol\n"
     ]
    },
    {
     "name": "stdout",
     "output_type": "stream",
     "text": [
      "红豆 种植量: x = 19.999084458686198 , 利润 = 144597.15044249798\n",
      "空心菜 种植量: x = 19.998779278248264 , 利润 = 849560.8000774316\n",
      "玉米 种植量: x = 17.99450675211719 , 利润 = 404416.00503759255\n",
      "爬豆 种植量: x = 14.993133440146487 , 利润 = 33440.299883923275\n"
     ]
    },
    {
     "name": "stderr",
     "output_type": "stream",
     "text": [
      "C:\\Users\\田齐\\AppData\\Local\\Temp\\ipykernel_29884\\277884361.py:78: FutureWarning: Setting an item of incompatible dtype is deprecated and will raise an error in a future version of pandas. Value '19.999084458686198' has dtype incompatible with int64, please explicitly cast to a compatible dtype first.\n",
      "  result1.loc[index1,df_temp.loc[index,'作物名称']] = best_sol\n",
      "C:\\Users\\田齐\\AppData\\Local\\Temp\\ipykernel_29884\\277884361.py:78: FutureWarning: Setting an item of incompatible dtype is deprecated and will raise an error in a future version of pandas. Value '19.998779278248264' has dtype incompatible with int64, please explicitly cast to a compatible dtype first.\n",
      "  result1.loc[index1,df_temp.loc[index,'作物名称']] = best_sol\n"
     ]
    },
    {
     "name": "stdout",
     "output_type": "stream",
     "text": [
      "南瓜 种植量: x = 14.991073472190433 , 利润 = 67158.9148438668\n",
      "黄瓜 种植量: x = 14.992446784161135 , 利润 = 1067158.2800178104\n",
      "空心菜 种植量: x = 14.0 , 利润 = 788436.0804115421\n",
      "黄豆 种植量: x = 12.99662775616083 , 利润 = 85990.22863841543\n",
      "空心菜 种植量: x = 11.998901350423438 , 利润 = 343810.240902618\n",
      "茄子 种植量: x = 9.983215075913634 , 利润 = 487078.701709879\n",
      "黄瓜 种植量: x = 9.997863736934463 , 利润 = 1177804.898768374\n"
     ]
    },
    {
     "name": "stderr",
     "output_type": "stream",
     "text": [
      "C:\\Users\\田齐\\AppData\\Local\\Temp\\ipykernel_29884\\277884361.py:78: FutureWarning: Setting an item of incompatible dtype is deprecated and will raise an error in a future version of pandas. Value '12.99662775616083' has dtype incompatible with int64, please explicitly cast to a compatible dtype first.\n",
      "  result1.loc[index1,df_temp.loc[index,'作物名称']] = best_sol\n",
      "C:\\Users\\田齐\\AppData\\Local\\Temp\\ipykernel_29884\\277884361.py:78: FutureWarning: Setting an item of incompatible dtype is deprecated and will raise an error in a future version of pandas. Value '9.983215075913634' has dtype incompatible with int64, please explicitly cast to a compatible dtype first.\n",
      "  result1.loc[index1,df_temp.loc[index,'作物名称']] = best_sol\n"
     ]
    },
    {
     "name": "stdout",
     "output_type": "stream",
     "text": [
      "芸豆 种植量: x = 0.5998168917372396 , 利润 = 73958.73736388088\n",
      "芸豆 种植量: x = 0.5997802700846876 , 利润 = 59514.33068606821\n",
      "豇豆 种植量: x = 0.5978667887388418 , 利润 = 232026.46985193194\n",
      "包菜 种植量: x = 0.5999176012817579 , 利润 = 53505.6627186575\n"
     ]
    },
    {
     "name": "stderr",
     "output_type": "stream",
     "text": [
      "C:\\Users\\田齐\\AppData\\Local\\Temp\\ipykernel_29884\\277884361.py:78: FutureWarning: Setting an item of incompatible dtype is deprecated and will raise an error in a future version of pandas. Value '0.5998168917372396' has dtype incompatible with int64, please explicitly cast to a compatible dtype first.\n",
      "  result1.loc[index1,df_temp.loc[index,'作物名称']] = best_sol\n",
      "C:\\Users\\田齐\\AppData\\Local\\Temp\\ipykernel_29884\\277884361.py:78: FutureWarning: Setting an item of incompatible dtype is deprecated and will raise an error in a future version of pandas. Value '0.5978667887388418' has dtype incompatible with int64, please explicitly cast to a compatible dtype first.\n",
      "  result1.loc[index1,df_temp.loc[index,'作物名称']] = best_sol\n",
      "C:\\Users\\田齐\\AppData\\Local\\Temp\\ipykernel_29884\\277884361.py:78: FutureWarning: Setting an item of incompatible dtype is deprecated and will raise an error in a future version of pandas. Value '0.5999176012817579' has dtype incompatible with int64, please explicitly cast to a compatible dtype first.\n",
      "  result1.loc[index1,df_temp.loc[index,'作物名称']] = best_sol\n"
     ]
    },
    {
     "name": "stdout",
     "output_type": "stream",
     "text": [
      "包菜 种植量: x = 0.5998535133897916 , 利润 = 24326.08528285933\n",
      "茄子 种植量: x = 0.5995788509956511 , 利润 = 381184.4708958511\n",
      "包菜 种植量: x = 0.5997070267795834 , 利润 = 28427.869485213618\n",
      "该农作物 2030 年第 1 季 不能种在 E13\n",
      "生菜 种植量: x = 0.5998626688029297 , 利润 = 16727.855727294937\n"
     ]
    },
    {
     "name": "stderr",
     "output_type": "stream",
     "text": [
      "C:\\Users\\田齐\\AppData\\Local\\Temp\\ipykernel_29884\\277884361.py:78: FutureWarning: Setting an item of incompatible dtype is deprecated and will raise an error in a future version of pandas. Value '0.5998626688029297' has dtype incompatible with int64, please explicitly cast to a compatible dtype first.\n",
      "  result1.loc[index1,df_temp.loc[index,'作物名称']] = best_sol\n",
      "C:\\Users\\田齐\\AppData\\Local\\Temp\\ipykernel_29884\\277884361.py:78: FutureWarning: Setting an item of incompatible dtype is deprecated and will raise an error in a future version of pandas. Value '0.5998168917372396' has dtype incompatible with int64, please explicitly cast to a compatible dtype first.\n",
      "  result1.loc[index1,df_temp.loc[index,'作物名称']] = best_sol\n"
     ]
    },
    {
     "name": "stdout",
     "output_type": "stream",
     "text": [
      "刀豆 种植量: x = 0.5998168917372396 , 利润 = 243512.58828609379\n",
      "茄子 种植量: x = 0.5948088807507439 , 利润 = 152629.40317965503\n",
      "豇豆 种植量: x = 0.5969604028381781 , 利润 = 319739.84537182184\n",
      "豇豆 种植量: x = 0.5993408102540627 , 利润 = 280150.7395093073\n",
      "包菜 种植量: x = 0.5992767223620966 , 利润 = 49535.803588993214\n",
      "生菜 种植量: x = 0.5998535133897916 , 利润 = 18171.53020165992\n",
      "油麦菜 种植量: x = 0.5997253376058594 , 利润 = 30038.42037381171\n"
     ]
    },
    {
     "name": "stderr",
     "output_type": "stream",
     "text": [
      "C:\\Users\\田齐\\AppData\\Local\\Temp\\ipykernel_29884\\277884361.py:78: FutureWarning: Setting an item of incompatible dtype is deprecated and will raise an error in a future version of pandas. Value '0.5997253376058594' has dtype incompatible with int64, please explicitly cast to a compatible dtype first.\n",
      "  result1.loc[index1,df_temp.loc[index,'作物名称']] = best_sol\n",
      "C:\\Users\\田齐\\AppData\\Local\\Temp\\ipykernel_29884\\277884361.py:78: FutureWarning: Setting an item of incompatible dtype is deprecated and will raise an error in a future version of pandas. Value '0.5998443579766537' has dtype incompatible with int64, please explicitly cast to a compatible dtype first.\n",
      "  result1.loc[index1,df_temp.loc[index,'作物名称']] = best_sol\n"
     ]
    },
    {
     "name": "stdout",
     "output_type": "stream",
     "text": [
      "芹菜 种植量: x = 0.5998443579766537 , 利润 = 16216.903272819993\n",
      "芸豆 种植量: x = 0.5986541542687114 , 利润 = 61295.92257757837\n",
      "芹菜 种植量: x = 0.5998260471503777 , 利润 = 11649.120141433286\n",
      "芹菜 种植量: x = 0.5999542229343099 , 利润 = 28610.921348225733\n",
      "大白菜 种植量: x = 21.996978713664454 , 利润 = 574731.7714416552\n",
      "白萝卜 种植量: x = 19.983215075913634 , 利润 = 420324.70024403575\n",
      "白萝卜 种植量: x = 14.994048981460288 , 利润 = 376414.42132997565\n",
      "白萝卜 种植量: x = 14.0 , 利润 = 318542.44966221607\n"
     ]
    },
    {
     "name": "stderr",
     "output_type": "stream",
     "text": [
      "C:\\Users\\田齐\\AppData\\Local\\Temp\\ipykernel_29884\\277884361.py:85: FutureWarning: Setting an item of incompatible dtype is deprecated and will raise an error in a future version of pandas. Value '21.996978713664454' has dtype incompatible with int64, please explicitly cast to a compatible dtype first.\n",
      "  result2.loc[index1-26,df_temp.loc[index,'作物名称']] = best_sol\n",
      "C:\\Users\\田齐\\AppData\\Local\\Temp\\ipykernel_29884\\277884361.py:85: FutureWarning: Setting an item of incompatible dtype is deprecated and will raise an error in a future version of pandas. Value '19.983215075913634' has dtype incompatible with int64, please explicitly cast to a compatible dtype first.\n",
      "  result2.loc[index1-26,df_temp.loc[index,'作物名称']] = best_sol\n"
     ]
    },
    {
     "name": "stdout",
     "output_type": "stream",
     "text": [
      "大白菜 种植量: x = 9.995880064087892 , 利润 = 411861.99291609856\n",
      "大白菜 种植量: x = 9.97787441824979 , 利润 = 226649.8443953352\n",
      "白灵菇 种植量: x = 0.5955870908674754 , 利润 = 290155.52075482963\n",
      "白灵菇 种植量: x = 0.5999908445868619 , 利润 = 221938.27053511527\n"
     ]
    },
    {
     "name": "stderr",
     "output_type": "stream",
     "text": [
      "C:\\Users\\田齐\\AppData\\Local\\Temp\\ipykernel_29884\\277884361.py:85: FutureWarning: Setting an item of incompatible dtype is deprecated and will raise an error in a future version of pandas. Value '0.5955870908674754' has dtype incompatible with int64, please explicitly cast to a compatible dtype first.\n",
      "  result2.loc[index1-26,df_temp.loc[index,'作物名称']] = best_sol\n",
      "C:\\Users\\田齐\\AppData\\Local\\Temp\\ipykernel_29884\\277884361.py:85: FutureWarning: Setting an item of incompatible dtype is deprecated and will raise an error in a future version of pandas. Value '0.5915861753261616' has dtype incompatible with int64, please explicitly cast to a compatible dtype first.\n",
      "  result2.loc[index1-26,df_temp.loc[index,'作物名称']] = best_sol\n",
      "C:\\Users\\田齐\\AppData\\Local\\Temp\\ipykernel_29884\\277884361.py:85: FutureWarning: Setting an item of incompatible dtype is deprecated and will raise an error in a future version of pandas. Value '0.5997528038452735' has dtype incompatible with int64, please explicitly cast to a compatible dtype first.\n",
      "  result2.loc[index1-26,df_temp.loc[index,'作物名称']] = best_sol\n"
     ]
    },
    {
     "name": "stdout",
     "output_type": "stream",
     "text": [
      "羊肚菌 种植量: x = 0.5915861753261616 , 利润 = 148310.63192997294\n",
      "刀豆 种植量: x = 0.5997528038452735 , 利润 = 214440.35596643403\n",
      "白灵菇 种植量: x = 0.5999267566948958 , 利润 = 117576.56320838141\n",
      "榆黄菇 种植量: x = 0.5999176012817579 , 利润 = 221148.59596532752\n",
      "该农作物 2030 年第 2 季 不能种在 E7\n",
      "羊肚菌 种植量: x = 0.5997802700846876 , 利润 = 219210.93936170184\n",
      "榆黄菇 种植量: x = 0.5999908445868619 , 利润 = 287311.8521239355\n",
      "羊肚菌 种植量: x = 0.5996978713664454 , 利润 = 144561.74330429197\n"
     ]
    },
    {
     "name": "stderr",
     "output_type": "stream",
     "text": [
      "C:\\Users\\田齐\\AppData\\Local\\Temp\\ipykernel_29884\\277884361.py:85: FutureWarning: Setting an item of incompatible dtype is deprecated and will raise an error in a future version of pandas. Value '0.5999908445868619' has dtype incompatible with int64, please explicitly cast to a compatible dtype first.\n",
      "  result2.loc[index1-26,df_temp.loc[index,'作物名称']] = best_sol\n"
     ]
    },
    {
     "name": "stdout",
     "output_type": "stream",
     "text": [
      "榆黄菇 种植量: x = 0.6 , 利润 = 497171.8087824355\n",
      "黄心菜 种植量: x = 0.5997711146715495 , 利润 = 14009.39050587458\n"
     ]
    },
    {
     "name": "stderr",
     "output_type": "stream",
     "text": [
      "C:\\Users\\田齐\\AppData\\Local\\Temp\\ipykernel_29884\\277884361.py:85: FutureWarning: Setting an item of incompatible dtype is deprecated and will raise an error in a future version of pandas. Value '0.5997711146715495' has dtype incompatible with int64, please explicitly cast to a compatible dtype first.\n",
      "  result2.loc[index1-26,df_temp.loc[index,'作物名称']] = best_sol\n"
     ]
    }
   ],
   "source": [
    "with pd.ExcelWriter('./2_SA/种植方案_2.xlsx', engine='openpyxl') as writer:\n",
    "    for y in range(2024,2031):# 年份遍历\n",
    "        # 导入答案空集\n",
    "        file_path5 = 'res.xlsx'\n",
    "        result1 = pd.read_excel(file_path5,sheet_name='1')\n",
    "        result2 = pd.read_excel(file_path5,sheet_name='2')\n",
    "        res_judge = pd.read_excel(f'./2_SA/{y-1}年种植方案.xlsx',sheet_name='Sheet1')\n",
    "        for s in range(1,3): # 季度遍历\n",
    "            area_temp = area[['地块类型','编号','地块面积/亩',y]]\n",
    "            if(s==2):\n",
    "                area_temp = area_temp[(area_temp['地块类型']== '水浇地') |(area_temp['地块类型']== '普通大棚') | (area_temp['地块类型']== '智慧大棚')]\n",
    "            area_temp = area_temp.sort_values(by='地块面积/亩',ascending=False)\n",
    "            for index1, row1 in area_temp.iterrows():# 地块遍历\n",
    "                # 提取相应地块的农作物\n",
    "                df_temp = df[df['地块类型'] == area.loc[index1,'地块类型']]\n",
    "                if(y >= 2026 and bean.loc[index1,y-1] + bean.loc[index1,y-2] == 0 ):\n",
    "                    df_temp = df_temp[(df_temp['作物类型'] == '蔬菜（豆类）') |( df_temp['作物类型'] == '粮食（豆类）')]\n",
    "                # 根据经济效益对农作物进行排序\n",
    "                df_temp = df_temp.sort_values(by='作物经济效益/(万元)',ascending=False)\n",
    "\n",
    "                for index, row in df_temp.iterrows():# 农作物遍历\n",
    "                    plant_data = plant_23[plant_23['作物名称'] == df_temp.loc[index,'作物名称']]\n",
    "                    # 预期销售量浮动\n",
    "                    if(df_temp.loc[index,'作物名称'] == '小麦' or df_temp.loc[index,'作物名称'] == '玉米'):\n",
    "                        rate_s = random.uniform(0.05, 0.1)\n",
    "                        sales = (sum(plant_data['种植面积/亩']))*((1+rate_s)**(y-2023))\n",
    "                    else:\n",
    "                        rate_s = random.uniform(-0.05, 0.05)\n",
    "                        sales = (sum(plant_data['种植面积/亩']))*(1+rate_s)\n",
    "\n",
    "                    # 销售价格浮动\n",
    "                    rate_p = 0\n",
    "                    if(df_temp.loc[index,'作物类型'] == '蔬菜' or df_temp.loc[index,'作物类型'] == '蔬菜（豆类）'):\n",
    "                        rate_p = 0.05\n",
    "                        price = df_temp.loc[index,'平均单价(元/斤)']*((1+0.05)**(y-2023))\n",
    "                    elif(df_temp.loc[index,'作物类型'] == '食用菌'):\n",
    "                        if(df_temp.loc[index,'作物名称'] == '羊肚菌'):\n",
    "                            rate_p = 0.05\n",
    "                            price = df_temp.loc[index,'平均单价(元/斤)']*((1-0.05)**(y-2023))\n",
    "                        else:\n",
    "                            rate_p = random.uniform(-0.05, -0.01)\n",
    "                            price = df_temp.loc[index,'平均单价(元/斤)']*((1+rate_p)**(y-2023))\n",
    "                    else:\n",
    "                        price = df_temp.loc[index,'平均单价(元/斤)']    \n",
    "\n",
    "                    # 种植成本浮动\n",
    "                    cost = df_temp.loc[index,'种植成本/(元/亩)']*((1+0.05)**(y-2023))\n",
    "                            \n",
    "                    # 亩产量浮动\n",
    "                    rate_o = random.uniform(-0.1, 0.1)\n",
    "                    output = df_temp.loc[index,'亩产量/斤']*((1+rate_o)**(y-2023))\n",
    "\n",
    "                    R = 0.5*rate_s + 0.1*rate_p + 0.4*rate_o\n",
    "\n",
    "                    if(df_temp.loc[index,f's{s}'] ==1 and judge.loc[df_temp.loc[index,'作物编号']-1,y]<=2 and area_temp.loc[index1,y]==1 and R >= 0):\n",
    "                        def obj_functon(x):\n",
    "\n",
    "                            income = sales*output*price\n",
    "                            expend = x*cost\n",
    "                            discount = (x-sales)*output*price*0.5\n",
    "                            return -(income - expend + discount)\n",
    "\n",
    "                        # 最初解、上下界\n",
    "                        init_sol = [0.1]\n",
    "                        ub = [area_temp.loc[index1,'地块面积/亩']-area_temp.loc[index1,y]]\n",
    "                        lb = [0]\n",
    "\n",
    "\n",
    "                        # 退火算法开始\n",
    "                        model = SimulatedAnnealing()\n",
    "                        model.fit(obj_functon, init_sol, ub=ub, lb=lb, n_iters=350, init_temperature=100)\n",
    "                        best_sol = model.best_sol\n",
    "                        best_fitness = -model.best_costs[-1] \n",
    "                        print(df_temp.loc[index,'作物名称'],\"种植量: x =\", best_sol, \", 利润 =\", best_fitness)  # 打印最优解\n",
    "\n",
    "                        # 判断是否存入答案集\n",
    "                        if(s==1 and res_judge.loc[index1,df_temp.loc[index,'作物名称']].any()==0):\n",
    "                            df_temp.loc[index,'s2']=0\n",
    "                            result1.loc[index1,df_temp.loc[index,'作物名称']] = best_sol\n",
    "                            area_temp.loc[index1,y]=0\n",
    "                            judge.loc[df_temp.loc[index,'作物编号']-1,y]+=1\n",
    "                            if(df_temp.loc[index,'作物类型'] == '粮食（豆类）' or df_temp.loc[index,'作物类型'] == '蔬菜（豆类）'):\n",
    "                                bean.loc[index1,y] = 1\n",
    "                            profit.loc[y-2024,'利润'] += best_fitness\n",
    "                        elif(s==2 and result1.loc[index1,df_temp.loc[index,'作物名称']]==0 and res_judge.loc[index1+28,df_temp.loc[index,'作物名称']].any()==0):\n",
    "                            result2.loc[index1-26,df_temp.loc[index,'作物名称']] = best_sol\n",
    "                            area_temp.loc[index1,y]=0\n",
    "                            judge.loc[df_temp.loc[index,'作物编号']-1,y]+=1\n",
    "                            if(df_temp.loc[index,'作物类型'] == '粮食（豆类）' or df_temp.loc[index,'作物类型'] == '蔬菜（豆类）'):\n",
    "                                bean.loc[index1,y] = 1\n",
    "                            profit.loc[y-2024,'利润'] += best_fitness\n",
    "                        else:\n",
    "                            print('该农作物',y,'年第',s,'季','不能种在',area.loc[index1,'地块名称'])\n",
    "                        \n",
    "        # 导出数据\n",
    "        result = pd.concat([result1,result2])\n",
    "        result.to_excel(writer,sheet_name=f'{y}', index=False)\n",
    "        output_file_path = f'./2_SA/{y}年种植方案.xlsx'\n",
    "        result.to_excel(output_file_path, sheet_name = 'Sheet1', index=False, engine='openpyxl')\n",
    "        profit_path = './2_SA/年利润_2.xlsx'\n",
    "        profit.to_excel(profit_path, sheet_name = 'Sheet1', index=False, engine='openpyxl')"
   ]
  },
  {
   "cell_type": "code",
   "execution_count": null,
   "metadata": {},
   "outputs": [],
   "source": [
    "read_file_path = f'./2_SA/2023年种植方案.xlsx'\n",
    "plan = pd.read_excel(read_file_path,sheet_name='Sheet1')\n",
    "total = plan.sum()\n",
    "total = total.drop(['地块名'])\n",
    "data  = pd.DataFrame(columns=total.index)\n",
    "data.loc[2023] = total\n",
    "for j in range(2024,2031):\n",
    "    read_file_path = f'./2_SA/{j}年种植方案.xlsx'\n",
    "    plan = pd.read_excel(read_file_path,sheet_name='Sheet1')\n",
    "    total = plan.sum()\n",
    "    total = total.drop(['地块名'])\n",
    "    data.loc[j] = total\n",
    "\n",
    "data = data.reset_index()\n",
    "year_total_file_path = './2_SA/农作物每年种植量.xlsx'\n",
    "data.to_excel(year_total_file_path,sheet_name='Sheet1', index=False,engine='openpyxl')"
   ]
  }
 ],
 "metadata": {
  "kernelspec": {
   "display_name": "Python 3",
   "language": "python",
   "name": "python3"
  },
  "language_info": {
   "codemirror_mode": {
    "name": "ipython",
    "version": 3
   },
   "file_extension": ".py",
   "mimetype": "text/x-python",
   "name": "python",
   "nbconvert_exporter": "python",
   "pygments_lexer": "ipython3",
   "version": "3.11.1"
  }
 },
 "nbformat": 4,
 "nbformat_minor": 2
}
