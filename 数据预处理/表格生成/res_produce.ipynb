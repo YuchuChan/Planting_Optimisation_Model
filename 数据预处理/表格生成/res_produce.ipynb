{
 "cells": [
  {
   "cell_type": "code",
   "execution_count": 1,
   "metadata": {},
   "outputs": [],
   "source": [
    "import pandas as pd"
   ]
  },
  {
   "cell_type": "code",
   "execution_count": 2,
   "metadata": {},
   "outputs": [],
   "source": [
    "# 读取数据\n",
    "file_path1 = '附件1.xlsx'\n",
    "names = pd.read_excel(file_path1, sheet_name='乡村种植的农作物')"
   ]
  },
  {
   "cell_type": "code",
   "execution_count": null,
   "metadata": {},
   "outputs": [],
   "source": [
    "# res.xlsx 方案空表生成\n",
    "\n",
    "c_names = names['作物名称']\n",
    "c_names = c_names.drop([41,42,43,44])\n",
    "area_name = pd.DataFrame({'地块名'})\n",
    "c_names = pd.concat([area_name,c_names],ignore_index=True)\n",
    "\n",
    "with pd.ExcelWriter('res.xlsx', engine='openpyxl') as writer1:\n",
    "    res_nan = pd.DataFrame(columns=c_names[0])\n",
    "    res_nan1 = res_nan.copy()\n",
    "    res_nan1['地块名'] = [0]*54\n",
    "    res_nan1[:] = 0\n",
    "    for i in range(0,res_nan1.shape[0]):\n",
    "        res_nan1.loc[i,'地块名'] = i+1\n",
    "\n",
    "\n",
    "    res_nan2 = res_nan.copy()\n",
    "    res_nan2['地块名'] = [0]*27\n",
    "    res_nan2[:] = 0\n",
    "    for i in range(0,res_nan2.shape[0]):\n",
    "        res_nan2.loc[i,'地块名'] = i+27\n",
    "\n",
    "    res_nan1.to_excel(writer1,sheet_name='1', index=False)\n",
    "    res_nan2.to_excel(writer1,sheet_name='2', index=False)\n",
    "        "
   ]
  },
  {
   "cell_type": "code",
   "execution_count": 8,
   "metadata": {},
   "outputs": [
    {
     "name": "stderr",
     "output_type": "stream",
     "text": [
      "C:\\Users\\田齐\\AppData\\Local\\Temp\\ipykernel_19492\\2174773771.py:4: SettingWithCopyWarning: \n",
      "A value is trying to be set on a copy of a slice from a DataFrame.\n",
      "Try using .loc[row_indexer,col_indexer] = value instead\n",
      "\n",
      "See the caveats in the documentation: https://pandas.pydata.org/pandas-docs/stable/user_guide/indexing.html#returning-a-view-versus-a-copy\n",
      "  can_plant[i] = [0]*can_plant.shape[0]\n"
     ]
    }
   ],
   "source": [
    "# 可种植作物.xlsx 判断表生成\n",
    "can_plant = names[['作物编号','作物名称','作物类型']]\n",
    "for i in range(2024,2031):\n",
    "    can_plant[i] = [0]*can_plant.shape[0]\n",
    "\n",
    "can_plant.to_excel('可种植作物.xlsx',sheet_name='Sheet1', index=False)"
   ]
  },
  {
   "cell_type": "code",
   "execution_count": 7,
   "metadata": {},
   "outputs": [],
   "source": [
    "# 地块面积.xlsx 判断表生成\n",
    "with pd.ExcelWriter('地块面积.xlsx', engine='openpyxl') as writer2:\n",
    "    area = pd.read_excel(file_path1, sheet_name='乡村的现有耕地')\n",
    "    area_r1 = area[['地块名称','地块类型','地块面积/亩']]\n",
    "    for i in range(0,area_r1.shape[0]):\n",
    "        area_r1.loc[i,'编号'] = i+1\n",
    "    for i in range(2024,2031):\n",
    "        area_r1[i] = [0]*area_r1.shape[0]\n",
    "\n",
    "    area_r2 = area_r1.drop(columns=['地块名称','地块类型','地块面积/亩'])\n",
    "    area_r1.to_excel(writer2,sheet_name='Sheet1', index=False)\n",
    "    area_r2.to_excel(writer2,sheet_name='Sheet2', index=False)\n"
   ]
  }
 ],
 "metadata": {
  "kernelspec": {
   "display_name": "Python 3",
   "language": "python",
   "name": "python3"
  },
  "language_info": {
   "codemirror_mode": {
    "name": "ipython",
    "version": 3
   },
   "file_extension": ".py",
   "mimetype": "text/x-python",
   "name": "python",
   "nbconvert_exporter": "python",
   "pygments_lexer": "ipython3",
   "version": "3.11.1"
  }
 },
 "nbformat": 4,
 "nbformat_minor": 2
}
